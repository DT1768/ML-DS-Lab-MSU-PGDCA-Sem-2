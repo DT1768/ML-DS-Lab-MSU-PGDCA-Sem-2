{
 "cells": [
  {
   "cell_type": "markdown",
   "id": "f1f31e43",
   "metadata": {
    "papermill": {
     "duration": 0.017316,
     "end_time": "2022-03-15T05:32:54.656913",
     "exception": false,
     "start_time": "2022-03-15T05:32:54.639597",
     "status": "completed"
    },
    "tags": []
   },
   "source": [
    "# **Binomial Distribution**"
   ]
  },
  {
   "cell_type": "markdown",
   "id": "91719e46",
   "metadata": {
    "papermill": {
     "duration": 0.015557,
     "end_time": "2022-03-15T05:32:54.688696",
     "exception": false,
     "start_time": "2022-03-15T05:32:54.673139",
     "status": "completed"
    },
    "tags": []
   },
   "source": [
    "**1) The Probabiltiy that college student will graduate is 0.4. Determine the probability that out of 5 students,**\n",
    "\n",
    "    a) None\n",
    "    b) One    \n",
    "    c) at least one    \n",
    "    d) at most 2\n",
    "    \n",
    "   **will graduate.**"
   ]
  },
  {
   "cell_type": "code",
   "execution_count": 1,
   "id": "8545301e",
   "metadata": {
    "_cell_guid": "b1076dfc-b9ad-4769-8c92-a6c4dae69d19",
    "_uuid": "8f2839f25d086af736a60e9eeb907d3b93b6e0e5",
    "execution": {
     "iopub.execute_input": "2022-03-15T05:32:54.731486Z",
     "iopub.status.busy": "2022-03-15T05:32:54.730798Z",
     "iopub.status.idle": "2022-03-15T05:32:55.685922Z",
     "shell.execute_reply": "2022-03-15T05:32:55.686313Z",
     "shell.execute_reply.started": "2022-03-15T04:37:27.458143Z"
    },
    "papermill": {
     "duration": 0.98123,
     "end_time": "2022-03-15T05:32:55.686541",
     "exception": false,
     "start_time": "2022-03-15T05:32:54.705311",
     "status": "completed"
    },
    "tags": []
   },
   "outputs": [
    {
     "name": "stdout",
     "output_type": "stream",
     "text": [
      "Question 1 Answers:\n",
      "a) None will graduate:  0.078\n",
      "b) One will graduate  0.259\n",
      "c) at least one will graduate 0.922\n",
      "d) at most 2 will graduate 0.337\n"
     ]
    },
    {
     "data": {
      "image/png": "[encoded data removed]",
      "text/plain": [
       "<Figure size 432x288 with 1 Axes>"
      ]
     },
     "metadata": {
      "needs_background": "light"
     },
     "output_type": "display_data"
    }
   ],
   "source": [
    "from scipy.stats import binom\n",
    "import matplotlib.pyplot as plt\n",
    "\n",
    "n = 5\n",
    "p = 0.4\n",
    "r_x = list(range(n+1))\n",
    "\n",
    "Px = [binom.pmf(r,n,p) for r in r_x]\n",
    "\n",
    "Q1 = Px[0]\n",
    "Q2 = Px[1]\n",
    "Q3 = sum(Px[1:])\n",
    "Q4 = sum(Px[0:2])\n",
    "\n",
    "print(\"Question 1 Answers:\")\n",
    "print(\"a) None will graduate: \", \"{:.3f}\".format(Q1))\n",
    "print(\"b) One will graduate \", \"{:.3f}\".format(Q2))\n",
    "print(\"c) at least one will graduate\", \"{:.3f}\".format(Q3))\n",
    "print(\"d) at most 2 will graduate\", \"{:.3f}\".format(Q4))\n",
    "\n",
    "plt.bar(r_x,Px)\n",
    "plt.show()"
   ]
  },
  {
   "cell_type": "markdown",
   "id": "9f9025fa",
   "metadata": {
    "papermill": {
     "duration": 0.017266,
     "end_time": "2022-03-15T05:32:55.721415",
     "exception": false,
     "start_time": "2022-03-15T05:32:55.704149",
     "status": "completed"
    },
    "tags": []
   },
   "source": [
    "**2) In sampling, a large number of parts are manufactured by machine, the mean number of defectives in a sample of 20 is 2. Out of 1000 such samples, how many would be expected to contain at least 3 defective parts?**"
   ]
  },
  {
   "cell_type": "code",
   "execution_count": 2,
   "id": "aff70cbd",
   "metadata": {
    "execution": {
     "iopub.execute_input": "2022-03-15T05:32:55.765788Z",
     "iopub.status.busy": "2022-03-15T05:32:55.765100Z",
     "iopub.status.idle": "2022-03-15T05:32:57.923295Z",
     "shell.execute_reply": "2022-03-15T05:32:57.922746Z",
     "shell.execute_reply.started": "2022-03-15T04:38:04.694404Z"
    },
    "papermill": {
     "duration": 2.184276,
     "end_time": "2022-03-15T05:32:57.923452",
     "exception": false,
     "start_time": "2022-03-15T05:32:55.739176",
     "status": "completed"
    },
    "tags": []
   },
   "outputs": [
    {
     "name": "stdout",
     "output_type": "stream",
     "text": [
      "Question 2 Answer: \n",
      " atleast 3 defective parts: 1.000\n"
     ]
    },
    {
     "data": {
      "image/png": "[encoded data removed]",
      "text/plain": [
       "<Figure size 432x288 with 1 Axes>"
      ]
     },
     "metadata": {
      "needs_background": "light"
     },
     "output_type": "display_data"
    }
   ],
   "source": [
    "from scipy.stats import binom\n",
    "import matplotlib.pyplot as plt\n",
    "\n",
    "mean = 2\n",
    "n_mean = 20\n",
    "\n",
    "\n",
    "n = 1000\n",
    "p = float(mean)/float(n_mean)\n",
    "r_x = list(range(n+1))\n",
    "\n",
    "Px = [binom.pmf(r,n,p) for r in r_x]\n",
    "\n",
    "Q1 = sum(Px[3:])\n",
    "\n",
    "print(\"Question 2 Answer: \\n atleast 3 defective parts:\" , \"{:.3f}\".format(Q1))\n",
    "\n",
    "plt.bar(r_x,Px)\n",
    "plt.show()"
   ]
  },
  {
   "cell_type": "markdown",
   "id": "a8473a99",
   "metadata": {
    "papermill": {
     "duration": 0.026916,
     "end_time": "2022-03-15T05:32:57.977969",
     "exception": false,
     "start_time": "2022-03-15T05:32:57.951053",
     "status": "completed"
    },
    "tags": []
   },
   "source": [
    "**3) out of 800 families, with 5 children each, how many would you expect to have,**\n",
    "    \n",
    "    a) 3 boys    \n",
    "    b) 5 girls\n",
    "    c) either 2 or 3 boys\n",
    "    \n",
    "**(Assume Equal Probability for boys and girls.)**"
   ]
  },
  {
   "cell_type": "code",
   "execution_count": 3,
   "id": "070a4ebd",
   "metadata": {
    "execution": {
     "iopub.execute_input": "2022-03-15T05:32:58.035184Z",
     "iopub.status.busy": "2022-03-15T05:32:58.034572Z",
     "iopub.status.idle": "2022-03-15T05:32:58.042637Z",
     "shell.execute_reply": "2022-03-15T05:32:58.043214Z",
     "shell.execute_reply.started": "2022-03-15T05:16:34.001332Z"
    },
    "papermill": {
     "duration": 0.038071,
     "end_time": "2022-03-15T05:32:58.043360",
     "exception": false,
     "start_time": "2022-03-15T05:32:58.005289",
     "status": "completed"
    },
    "tags": []
   },
   "outputs": [
    {
     "name": "stdout",
     "output_type": "stream",
     "text": [
      "Question 3 Answers:\n",
      "a) 3 Boys:  250.0\n",
      "b) 5 Girls:  25.0\n",
      "c) Either 3 or 2 Boys:  500.0\n"
     ]
    }
   ],
   "source": [
    "from scipy.stats import binom\n",
    "import matplotlib.pyplot as plt\n",
    "import math\n",
    "\n",
    "def nCr(n,r):\n",
    "    return math.factorial(n)/(math.factorial(r)*math.factorial(n-r))\n",
    "\n",
    "n = 800\n",
    "total_child = 5\n",
    "pb = 0.5\n",
    "pg = 0.5\n",
    "\n",
    "pa = (nCr(total_child,3)*math.pow(pb,3)*math.pow(pg,total_child-3))*800\n",
    "pb = (nCr(total_child,5)*math.pow(pg,5)*math.pow(pb,total_child-5))*800\n",
    "pc = pa*2\n",
    "\n",
    "print(\"Question 3 Answers:\")\n",
    "print(\"a) 3 Boys: \", pa)\n",
    "print(\"b) 5 Girls: \", pb)\n",
    "print(\"c) Either 3 or 2 Boys: \", pc)\n",
    "\n"
   ]
  },
  {
   "cell_type": "markdown",
   "id": "99ad9334",
   "metadata": {
    "papermill": {
     "duration": 0.027262,
     "end_time": "2022-03-15T05:32:58.098316",
     "exception": false,
     "start_time": "2022-03-15T05:32:58.071054",
     "status": "completed"
    },
    "tags": []
   },
   "source": [
    "**4) A Dice is thrown 6 times.If getting an number is a success, find the probability of**\n",
    "\n",
    "    a) 5 Successes    \n",
    "    b) at least 5 successes    \n",
    "    c) at most 5 successes\n",
    "    "
   ]
  },
  {
   "cell_type": "code",
   "execution_count": 4,
   "id": "c1421b32",
   "metadata": {
    "execution": {
     "iopub.execute_input": "2022-03-15T05:32:58.159209Z",
     "iopub.status.busy": "2022-03-15T05:32:58.158598Z",
     "iopub.status.idle": "2022-03-15T05:32:58.304289Z",
     "shell.execute_reply": "2022-03-15T05:32:58.304832Z",
     "shell.execute_reply.started": "2022-03-15T05:17:17.605642Z"
    },
    "papermill": {
     "duration": 0.176936,
     "end_time": "2022-03-15T05:32:58.304983",
     "exception": false,
     "start_time": "2022-03-15T05:32:58.128047",
     "status": "completed"
    },
    "tags": []
   },
   "outputs": [
    {
     "name": "stdout",
     "output_type": "stream",
     "text": [
      "Question 4 Answers:\n",
      "a) 5 Successes:  0.094\n",
      "b) at least 5 Successes:  0.109\n",
      "c) at most 5 Successes:  0.891\n"
     ]
    },
    {
     "data": {
      "image/png": "[encoded data removed]",
      "text/plain": [
       "<Figure size 432x288 with 1 Axes>"
      ]
     },
     "metadata": {
      "needs_background": "light"
     },
     "output_type": "display_data"
    }
   ],
   "source": [
    "from scipy.stats import binom\n",
    "import matplotlib.pyplot as plt\n",
    "\n",
    "n = 6\n",
    "p = 0.5\n",
    "r_x = list(range(n+1))\n",
    "\n",
    "Px = [binom.pmf(r,n,p) for r in r_x]\n",
    "\n",
    "Q1 = Px[5]\n",
    "Q2 = sum(Px[5:])\n",
    "Q3 = sum(Px[0:5])\n",
    "\n",
    "print(\"Question 4 Answers:\")\n",
    "print(\"a) 5 Successes: \", \"{:.3f}\".format(Q1))\n",
    "print(\"b) at least 5 Successes: \", \"{:.3f}\".format(Q2))\n",
    "print(\"c) at most 5 Successes: \", \"{:.3f}\".format(Q3))\n",
    "\n",
    "plt.bar(r_x,Px)\n",
    "plt.show()"
   ]
  },
  {
   "cell_type": "markdown",
   "id": "a059eb54",
   "metadata": {
    "papermill": {
     "duration": 0.028603,
     "end_time": "2022-03-15T05:32:58.362468",
     "exception": false,
     "start_time": "2022-03-15T05:32:58.333865",
     "status": "completed"
    },
    "tags": []
   },
   "source": [
    "**5) Assume that 50% of all engineering students are good in mathematics. Determine the probabilities that among 18 engineering students,**\n",
    "\n",
    "    a) exactly 10\n",
    "    b) at least 10\n",
    "    c) at most 8\n",
    "    d) at least 2 and at most 9\n",
    "**are good in mathematics.**"
   ]
  },
  {
   "cell_type": "code",
   "execution_count": 5,
   "id": "2c450a3e",
   "metadata": {
    "execution": {
     "iopub.execute_input": "2022-03-15T05:32:58.427906Z",
     "iopub.status.busy": "2022-03-15T05:32:58.427285Z",
     "iopub.status.idle": "2022-03-15T05:32:58.594593Z",
     "shell.execute_reply": "2022-03-15T05:32:58.595772Z",
     "shell.execute_reply.started": "2022-03-15T05:18:15.276984Z"
    },
    "papermill": {
     "duration": 0.204755,
     "end_time": "2022-03-15T05:32:58.596050",
     "exception": false,
     "start_time": "2022-03-15T05:32:58.391295",
     "status": "completed"
    },
    "tags": []
   },
   "outputs": [
    {
     "name": "stdout",
     "output_type": "stream",
     "text": [
      "Question 5 Answers:\n",
      "a) exactly 10:  0.167\n",
      "b) at least 10:  0.407\n",
      "c) at most 8:  0.240\n",
      "d) at least 2 and at most 9:  0.407\n"
     ]
    },
    {
     "data": {
      "image/png": "[encoded data removed]",
      "text/plain": [
       "<Figure size 432x288 with 1 Axes>"
      ]
     },
     "metadata": {
      "needs_background": "light"
     },
     "output_type": "display_data"
    }
   ],
   "source": [
    "from scipy.stats import binom\n",
    "import matplotlib.pyplot as plt\n",
    "\n",
    "n = 18\n",
    "p = 0.5\n",
    "r_x = list(range(n+1))\n",
    "\n",
    "Px = [binom.pmf(r,n,p) for r in r_x]\n",
    "\n",
    "Q1 = Px[10]\n",
    "Q2 = sum(Px[10:])\n",
    "Q3 = sum(Px[0:8])\n",
    "Q4 = sum(Px[2:9])\n",
    "\n",
    "print(\"Question 5 Answers:\")\n",
    "print(\"a) exactly 10: \", \"{:.3f}\".format(Q1))\n",
    "print(\"b) at least 10: \", \"{:.3f}\".format(Q2))\n",
    "print(\"c) at most 8: \", \"{:.3f}\".format(Q3))\n",
    "print(\"d) at least 2 and at most 9: \", \"{:.3f}\".format(Q4))\n",
    "\n",
    "plt.bar(r_x,Px)\n",
    "plt.show()"
   ]
  },
  {
   "cell_type": "markdown",
   "id": "46328528",
   "metadata": {
    "papermill": {
     "duration": 0.019046,
     "end_time": "2022-03-15T05:32:58.634998",
     "exception": false,
     "start_time": "2022-03-15T05:32:58.615952",
     "status": "completed"
    },
    "tags": []
   },
   "source": [
    "# **Poisson Distribution**"
   ]
  },
  {
   "cell_type": "markdown",
   "id": "9e53729b",
   "metadata": {
    "papermill": {
     "duration": 0.019478,
     "end_time": "2022-03-15T05:32:58.673965",
     "exception": false,
     "start_time": "2022-03-15T05:32:58.654487",
     "status": "completed"
    },
    "tags": []
   },
   "source": [
    "**1) Find the probability that at most 5 defective fuses will be found in a box of 200 fuses, if experience shows that 2% of such fuses are defective.**"
   ]
  },
  {
   "cell_type": "code",
   "execution_count": 6,
   "id": "0897aa6c",
   "metadata": {
    "execution": {
     "iopub.execute_input": "2022-03-15T05:32:58.717457Z",
     "iopub.status.busy": "2022-03-15T05:32:58.716801Z",
     "iopub.status.idle": "2022-03-15T05:32:59.141961Z",
     "shell.execute_reply": "2022-03-15T05:32:59.142449Z",
     "shell.execute_reply.started": "2022-03-15T05:19:11.046192Z"
    },
    "papermill": {
     "duration": 0.448214,
     "end_time": "2022-03-15T05:32:59.142576",
     "exception": false,
     "start_time": "2022-03-15T05:32:58.694362",
     "status": "completed"
    },
    "tags": []
   },
   "outputs": [
    {
     "name": "stdout",
     "output_type": "stream",
     "text": [
      "Question 1 Answers:\n",
      "probability that at most 5 defective fuses will be found is  0.629\n"
     ]
    },
    {
     "data": {
      "image/png": "[encoded data removed]",
      "text/plain": [
       "<Figure size 432x288 with 1 Axes>"
      ]
     },
     "metadata": {
      "needs_background": "light"
     },
     "output_type": "display_data"
    }
   ],
   "source": [
    "from scipy.stats import poisson\n",
    "import matplotlib.pyplot as plt\n",
    "\n",
    "n = 200\n",
    "p = 0.02\n",
    "lamda = n*p\n",
    "r_x = list(range(n+1))\n",
    "\n",
    "Px = [poisson.pmf(r,lamda) for r in r_x]\n",
    "\n",
    "Q1 = sum(Px[0:5])\n",
    "\n",
    "print(\"Question 1 Answers:\")\n",
    "print(\"probability that at most 5 defective fuses will be found is \", \"{:.3f}\".format(Q1))\n",
    "\n",
    "plt.bar(r_x,Px)\n",
    "plt.show()"
   ]
  },
  {
   "cell_type": "markdown",
   "id": "6cc2a78c",
   "metadata": {
    "papermill": {
     "duration": 0.02003,
     "end_time": "2022-03-15T05:32:59.184700",
     "exception": false,
     "start_time": "2022-03-15T05:32:59.164670",
     "status": "completed"
    },
    "tags": []
   },
   "source": [
    "**2) A book of 585 pages contain 43 pages with misprints.if these pages are randomly distributed throughout the book, what is the probability that 10 pages, selected at random will be free from pages with misprint.**"
   ]
  },
  {
   "cell_type": "code",
   "execution_count": 7,
   "id": "30566837",
   "metadata": {
    "execution": {
     "iopub.execute_input": "2022-03-15T05:32:59.227311Z",
     "iopub.status.busy": "2022-03-15T05:32:59.226724Z",
     "iopub.status.idle": "2022-03-15T05:33:00.260219Z",
     "shell.execute_reply": "2022-03-15T05:33:00.259835Z",
     "shell.execute_reply.started": "2022-03-15T05:20:45.429477Z"
    },
    "papermill": {
     "duration": 1.055611,
     "end_time": "2022-03-15T05:33:00.260324",
     "exception": false,
     "start_time": "2022-03-15T05:32:59.204713",
     "status": "completed"
    },
    "tags": []
   },
   "outputs": [
    {
     "name": "stdout",
     "output_type": "stream",
     "text": [
      "Question 2 Answers:\n",
      "probability that 10 pages will be free from misprint 0.999999998740\n"
     ]
    },
    {
     "data": {
      "image/png": "[encoded data removed]",
      "text/plain": [
       "<Figure size 432x288 with 1 Axes>"
      ]
     },
     "metadata": {
      "needs_background": "light"
     },
     "output_type": "display_data"
    }
   ],
   "source": [
    "from scipy.stats import poisson\n",
    "import matplotlib.pyplot as plt\n",
    "\n",
    "n = 585\n",
    "p = 43/585\n",
    "lamda = n*p\n",
    "r_x = list(range(n+1))\n",
    "\n",
    "Px = [poisson.pmf(r,lamda) for r in r_x]\n",
    "\n",
    "Q1 = 1-Px[10]\n",
    "\n",
    "print(\"Question 2 Answers:\")\n",
    "print(\"probability that 10 pages will be free from misprint\", \"{:.12f}\".format(Q1))\n",
    "\n",
    "plt.bar(r_x,Px)\n",
    "plt.show()"
   ]
  },
  {
   "cell_type": "markdown",
   "id": "8450fd92",
   "metadata": {
    "papermill": {
     "duration": 0.02234,
     "end_time": "2022-03-15T05:33:00.306017",
     "exception": false,
     "start_time": "2022-03-15T05:33:00.283677",
     "status": "completed"
    },
    "tags": []
   },
   "source": [
    "**3) In a certain factory turning out razor blades, there is a small chance of 0.002 for any blade to be defective. The blades are supplied in packets of 10. Calculate the approximate number of packets containing no defective, one defective, two defective, at least two defective, at most 4 defective blades respectively in a consignment of 10,000 packetes.**"
   ]
  },
  {
   "cell_type": "code",
   "execution_count": 8,
   "id": "540351d4",
   "metadata": {
    "execution": {
     "iopub.execute_input": "2022-03-15T05:33:00.353446Z",
     "iopub.status.busy": "2022-03-15T05:33:00.352766Z",
     "iopub.status.idle": "2022-03-15T05:33:00.485997Z",
     "shell.execute_reply": "2022-03-15T05:33:00.486982Z",
     "shell.execute_reply.started": "2022-03-15T04:32:05.015811Z"
    },
    "papermill": {
     "duration": 0.158907,
     "end_time": "2022-03-15T05:33:00.487211",
     "exception": false,
     "start_time": "2022-03-15T05:33:00.328304",
     "status": "completed"
    },
    "tags": []
   },
   "outputs": [
    {
     "name": "stdout",
     "output_type": "stream",
     "text": [
      "Question 3 Answers:\n",
      "a) O defective:  9801\n",
      "b) 1 defective:  196\n",
      "c) 2 defective:  1\n",
      "d) at least 2 defective:  1\n",
      "a) at most 4 defective:  9999\n"
     ]
    },
    {
     "data": {
      "image/png": "[encoded data removed]",
      "text/plain": [
       "<Figure size 432x288 with 1 Axes>"
      ]
     },
     "metadata": {
      "needs_background": "light"
     },
     "output_type": "display_data"
    }
   ],
   "source": [
    "from scipy.stats import poisson\n",
    "import matplotlib.pyplot as plt\n",
    "\n",
    "n = 10\n",
    "p = 0.002\n",
    "lamda = n*p\n",
    "r_x = list(range(n+1))\n",
    "\n",
    "Px = [poisson.pmf(r,lamda) for r in r_x]\n",
    "\n",
    "Q1 = Px[0]*10000\n",
    "Q2 = Px[1]*10000\n",
    "Q3 = Px[2]*10000\n",
    "Q4 = sum(Px[2:])*10000\n",
    "Q5 = sum(Px[:4])*10000\n",
    "\n",
    "print(\"Question 3 Answers:\")\n",
    "print(\"a) O defective: \", int(Q1))\n",
    "print(\"b) 1 defective: \", int(Q2))\n",
    "print(\"c) 2 defective: \", int(Q3))\n",
    "print(\"d) at least 2 defective: \", int(Q4))\n",
    "print(\"a) at most 4 defective: \", int(Q5))\n",
    "\n",
    "plt.bar(r_x,Px)\n",
    "plt.show()"
   ]
  },
  {
   "cell_type": "markdown",
   "id": "41948561",
   "metadata": {
    "papermill": {
     "duration": 0.022533,
     "end_time": "2022-03-15T05:33:00.535236",
     "exception": false,
     "start_time": "2022-03-15T05:33:00.512703",
     "status": "completed"
    },
    "tags": []
   },
   "source": [
    "**4) The average number of phone calls/minute coming into a switch board between 2 and 4 pm is 2.5. Determine the probability that during one particular minute there will be**\n",
    "    \n",
    "    a)0\n",
    "    b)1\n",
    "    c)2\n",
    "    d) 4 or fewer\n",
    "    e) more than 6\n",
    "    f) at most\n",
    "   **5 calls.**\n",
    "    "
   ]
  },
  {
   "cell_type": "code",
   "execution_count": 9,
   "id": "50e4fd14",
   "metadata": {
    "execution": {
     "iopub.execute_input": "2022-03-15T05:33:00.583204Z",
     "iopub.status.busy": "2022-03-15T05:33:00.582743Z",
     "iopub.status.idle": "2022-03-15T05:33:00.716920Z",
     "shell.execute_reply": "2022-03-15T05:33:00.717890Z",
     "shell.execute_reply.started": "2022-03-15T05:15:51.505535Z"
    },
    "papermill": {
     "duration": 0.160113,
     "end_time": "2022-03-15T05:33:00.718204",
     "exception": false,
     "start_time": "2022-03-15T05:33:00.558091",
     "status": "completed"
    },
    "tags": []
   },
   "outputs": [
    {
     "name": "stdout",
     "output_type": "stream",
     "text": [
      "Question 3 Answers:\n",
      "a) O calls/minute:  0.082\n",
      "b) 1 call/minute:  0.205\n",
      "c) 2 calls/minute:  0.257\n",
      "d) at most 4 calls/minute:  0.758\n",
      "e) at least 6 calls/minute:  0.042\n",
      "f) at most 5 calls/minute:  0.891\n"
     ]
    },
    {
     "data": {
      "image/png": "[encoded data removed]",
      "text/plain": [
       "<Figure size 432x288 with 1 Axes>"
      ]
     },
     "metadata": {
      "needs_background": "light"
     },
     "output_type": "display_data"
    }
   ],
   "source": [
    "from scipy.stats import poisson\n",
    "import matplotlib.pyplot as plt\n",
    "\n",
    "lamda = 2.5\n",
    "r_x = list(range(n+1))\n",
    "\n",
    "Px = [poisson.pmf(r,lamda) for r in r_x]\n",
    "\n",
    "Q1 = Px[0]\n",
    "Q2 = Px[1]\n",
    "Q3 = Px[2]\n",
    "Q4 = sum(Px[:4])\n",
    "Q5 = sum(Px[6:])\n",
    "Q6 = sum(Px[:5])\n",
    "\n",
    "print(\"Question 3 Answers:\")\n",
    "print(\"a) O calls/minute: \", \"{:.3f}\".format(Q1))\n",
    "print(\"b) 1 call/minute: \", \"{:.3f}\".format(Q2))\n",
    "print(\"c) 2 calls/minute: \", \"{:.3f}\".format(Q3))\n",
    "print(\"d) at most 4 calls/minute: \", \"{:.3f}\".format(Q4))\n",
    "print(\"e) at least 6 calls/minute: \", \"{:.3f}\".format(Q5))\n",
    "print(\"f) at most 5 calls/minute: \", \"{:.3f}\".format(Q6))\n",
    "\n",
    "plt.bar(r_x,Px)\n",
    "plt.show()"
   ]
  },
  {
   "cell_type": "markdown",
   "id": "6387c0ed",
   "metadata": {
    "papermill": {
     "duration": 0.023703,
     "end_time": "2022-03-15T05:33:00.768524",
     "exception": false,
     "start_time": "2022-03-15T05:33:00.744821",
     "status": "completed"
    },
    "tags": []
   },
   "source": [
    "**5) Suppose 220 misprint are distributed randomly throughout a boo of 200 pages. find the probability that a given page contains**\n",
    "    \n",
    "    a) No misprint\n",
    "    b) One misprint\n",
    "    c) More than 2 misprints\n",
    "    d) at most 2 misprints"
   ]
  },
  {
   "cell_type": "code",
   "execution_count": 10,
   "id": "f6ae3ff4",
   "metadata": {
    "execution": {
     "iopub.execute_input": "2022-03-15T05:33:00.820114Z",
     "iopub.status.busy": "2022-03-15T05:33:00.819605Z",
     "iopub.status.idle": "2022-03-15T05:33:01.232553Z",
     "shell.execute_reply": "2022-03-15T05:33:01.232971Z",
     "shell.execute_reply.started": "2022-03-15T05:10:19.234974Z"
    },
    "papermill": {
     "duration": 0.4402,
     "end_time": "2022-03-15T05:33:01.233096",
     "exception": false,
     "start_time": "2022-03-15T05:33:00.792896",
     "status": "completed"
    },
    "tags": []
   },
   "outputs": [
    {
     "name": "stdout",
     "output_type": "stream",
     "text": [
      "Question 3 Answers:\n",
      "a) O misprints:  0.333\n",
      "b) 1 misprints:  0.366\n",
      "c) more than 2 misprints:  0.301\n",
      "d) at most 2 misprints:  0.699\n"
     ]
    },
    {
     "data": {
      "image/png": "[encoded data removed]",
      "text/plain": [
       "<Figure size 432x288 with 1 Axes>"
      ]
     },
     "metadata": {
      "needs_background": "light"
     },
     "output_type": "display_data"
    }
   ],
   "source": [
    "from scipy.stats import poisson\n",
    "import matplotlib.pyplot as plt\n",
    "\n",
    "n = 200\n",
    "p = 220\n",
    "lamda = float(p)/float(n)\n",
    "r_x = list(range(n+1))\n",
    "\n",
    "Px = [poisson.pmf(r,lamda) for r in r_x]\n",
    "\n",
    "Q1 = Px[0]\n",
    "Q2 = Px[1]\n",
    "Q3 = sum(Px[2:])\n",
    "Q4 = sum(Px[:2])\n",
    "\n",
    "print(\"Question 3 Answers:\")\n",
    "print(\"a) O misprints: \", \"{:.3f}\".format(Q1))\n",
    "print(\"b) 1 misprints: \", \"{:.3f}\".format(Q2))\n",
    "print(\"c) more than 2 misprints: \", \"{:.3f}\".format(Q3))\n",
    "print(\"d) at most 2 misprints: \", \"{:.3f}\".format(Q4))\n",
    "\n",
    "plt.bar(r_x,Px)\n",
    "plt.show()"
   ]
  },
  {
   "cell_type": "markdown",
   "id": "d1a4bf25",
   "metadata": {
    "papermill": {
     "duration": 0.024676,
     "end_time": "2022-03-15T05:33:01.282668",
     "exception": false,
     "start_time": "2022-03-15T05:33:01.257992",
     "status": "completed"
    },
    "tags": []
   },
   "source": [
    "# **Normal Distribution**"
   ]
  },
  {
   "cell_type": "markdown",
   "id": "d74184e5",
   "metadata": {
    "papermill": {
     "duration": 0.02442,
     "end_time": "2022-03-15T05:33:01.332128",
     "exception": false,
     "start_time": "2022-03-15T05:33:01.307708",
     "status": "completed"
    },
    "tags": []
   },
   "source": [
    "**1) In a test on 2000 electric bulbs, it was found that the life of a particular make was normally distributed with an average life of 2040 hours and standard deviation of 60 hours. Estimate the number of bulbs likely to burn for**\n",
    "\n",
    "    a) More than 2150 hours\n",
    "    b) Less than 1950 hours\n",
    "    c) More than 1920 hours but less than 2160 hours"
   ]
  },
  {
   "cell_type": "markdown",
   "id": "d0136e91",
   "metadata": {
    "papermill": {
     "duration": 0.024822,
     "end_time": "2022-03-15T05:33:01.381899",
     "exception": false,
     "start_time": "2022-03-15T05:33:01.357077",
     "status": "completed"
    },
    "tags": []
   },
   "source": [
    "**2) The mean height of 500 students is 151 cm and the standard deviation is 15 cm. Assuming that the height are normally distributed, find**\n",
    "    \n",
    "    a) how many student's height lie between 120 to 155 cm.\n",
    "    b) how many student's height is more than 130 cm.\n",
    "    c) how many student's height is less than 140 cm."
   ]
  },
  {
   "cell_type": "markdown",
   "id": "85f4a888",
   "metadata": {
    "papermill": {
     "duration": 0.024749,
     "end_time": "2022-03-15T05:33:01.431737",
     "exception": false,
     "start_time": "2022-03-15T05:33:01.406988",
     "status": "completed"
    },
    "tags": []
   },
   "source": [
    "**3) In an intelligence test was administered to 1000 students, the average was 42 and standard deviation was 24.**"
   ]
  }
 ],
 "metadata": {
  "kernelspec": {
   "display_name": "Python 3",
   "language": "python",
   "name": "python3"
  },
  "language_info": {
   "codemirror_mode": {
    "name": "ipython",
    "version": 3
   },
   "file_extension": ".py",
   "mimetype": "text/x-python",
   "name": "python",
   "nbconvert_exporter": "python",
   "pygments_lexer": "ipython3",
   "version": "3.7.12"
  },
  "papermill": {
   "default_parameters": {},
   "duration": 15.319018,
   "end_time": "2022-03-15T05:33:02.065264",
   "environment_variables": {},
   "exception": null,
   "input_path": "__notebook__.ipynb",
   "output_path": "__notebook__.ipynb",
   "parameters": {},
   "start_time": "2022-03-15T05:32:46.746246",
   "version": "2.3.3"
  }
 },
 "nbformat": 4,
 "nbformat_minor": 5
}
