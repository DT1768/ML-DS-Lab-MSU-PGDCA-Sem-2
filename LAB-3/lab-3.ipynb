{
 "cells": [
  {
   "cell_type": "markdown",
   "id": "119c5d69",
   "metadata": {
    "papermill": {
     "duration": 0.030156,
     "end_time": "2022-03-15T16:37:22.820296",
     "exception": false,
     "start_time": "2022-03-15T16:37:22.790140",
     "status": "completed"
    },
    "tags": []
   },
   "source": [
    "# **Binomial Distribution**"
   ]
  },
  {
   "cell_type": "markdown",
   "id": "e831bb99",
   "metadata": {
    "papermill": {
     "duration": 0.029086,
     "end_time": "2022-03-15T16:37:22.882490",
     "exception": false,
     "start_time": "2022-03-15T16:37:22.853404",
     "status": "completed"
    },
    "tags": []
   },
   "source": [
    "**Important Functions**\n",
    "\n",
    "*binom.pmf( r , n , p )*\n",
    "\n",
    "Where,\n",
    "\n",
    "*     pmf stands for probability mass function \n",
    "*     n = total number of trials in experiment\n",
    "*     r = list of integers 0 to n\n",
    "*     p = probability of success (between 0 to 1)"
   ]
  },
  {
   "cell_type": "markdown",
   "id": "76c10ab9",
   "metadata": {
    "papermill": {
     "duration": 0.02836,
     "end_time": "2022-03-15T16:37:22.939567",
     "exception": false,
     "start_time": "2022-03-15T16:37:22.911207",
     "status": "completed"
    },
    "tags": []
   },
   "source": [
    "**1) The Probabiltiy that college student will graduate is 0.4. Determine the probability that out of 5 students,**\n",
    "\n",
    "    a) None\n",
    "    b) One    \n",
    "    c) at least one    \n",
    "    d) at most 2\n",
    "    \n",
    "   **will graduate.**"
   ]
  },
  {
   "cell_type": "code",
   "execution_count": 1,
   "id": "c6748386",
   "metadata": {
    "_cell_guid": "b1076dfc-b9ad-4769-8c92-a6c4dae69d19",
    "_uuid": "8f2839f25d086af736a60e9eeb907d3b93b6e0e5",
    "execution": {
     "iopub.execute_input": "2022-03-15T16:37:23.002273Z",
     "iopub.status.busy": "2022-03-15T16:37:23.000976Z",
     "iopub.status.idle": "2022-03-15T16:37:24.176733Z",
     "shell.execute_reply": "2022-03-15T16:37:24.177333Z",
     "shell.execute_reply.started": "2022-03-15T04:37:27.458143Z"
    },
    "papermill": {
     "duration": 1.209152,
     "end_time": "2022-03-15T16:37:24.177684",
     "exception": false,
     "start_time": "2022-03-15T16:37:22.968532",
     "status": "completed"
    },
    "tags": []
   },
   "outputs": [
    {
     "name": "stdout",
     "output_type": "stream",
     "text": [
      "Question 1 Answers:\n",
      "a) None will graduate:  0.078\n",
      "b) One will graduate  0.259\n",
      "c) at least one will graduate 0.922\n",
      "d) at most 2 will graduate 0.337\n"
     ]
    },
    {
     "data": {
      "image/png": "[encoded data removed]",
      "text/plain": [
       "<Figure size 432x288 with 1 Axes>"
      ]
     },
     "metadata": {
      "needs_background": "light"
     },
     "output_type": "display_data"
    }
   ],
   "source": [
    "from scipy.stats import binom\n",
    "import matplotlib.pyplot as plt\n",
    "\n",
    "n = 5\n",
    "p = 0.4\n",
    "r_x = list(range(n+1))\n",
    "\n",
    "Px = [binom.pmf(r,n,p) for r in r_x]\n",
    "\n",
    "Q1 = Px[0]\n",
    "Q2 = Px[1]\n",
    "Q3 = sum(Px[1:])\n",
    "Q4 = sum(Px[0:2])\n",
    "\n",
    "print(\"Question 1 Answers:\")\n",
    "print(\"a) None will graduate: \", \"{:.3f}\".format(Q1))\n",
    "print(\"b) One will graduate \", \"{:.3f}\".format(Q2))\n",
    "print(\"c) at least one will graduate\", \"{:.3f}\".format(Q3))\n",
    "print(\"d) at most 2 will graduate\", \"{:.3f}\".format(Q4))\n",
    "\n",
    "plt.bar(r_x,Px)\n",
    "plt.show()"
   ]
  },
  {
   "cell_type": "markdown",
   "id": "39da0fec",
   "metadata": {
    "papermill": {
     "duration": 0.029262,
     "end_time": "2022-03-15T16:37:24.237591",
     "exception": false,
     "start_time": "2022-03-15T16:37:24.208329",
     "status": "completed"
    },
    "tags": []
   },
   "source": [
    "**2) In sampling, a large number of parts are manufactured by machine, the mean number of defectives in a sample of 20 is 2. Out of 1000 such samples, how many would be expected to contain at least 3 defective parts?**"
   ]
  },
  {
   "cell_type": "code",
   "execution_count": 2,
   "id": "77cce139",
   "metadata": {
    "execution": {
     "iopub.execute_input": "2022-03-15T16:37:24.303242Z",
     "iopub.status.busy": "2022-03-15T16:37:24.302506Z",
     "iopub.status.idle": "2022-03-15T16:37:26.466658Z",
     "shell.execute_reply": "2022-03-15T16:37:26.466117Z",
     "shell.execute_reply.started": "2022-03-15T04:38:04.694404Z"
    },
    "papermill": {
     "duration": 2.199489,
     "end_time": "2022-03-15T16:37:26.466837",
     "exception": false,
     "start_time": "2022-03-15T16:37:24.267348",
     "status": "completed"
    },
    "tags": []
   },
   "outputs": [
    {
     "name": "stdout",
     "output_type": "stream",
     "text": [
      "Question 2 Answer: \n",
      " atleast 3 defective parts: 1.000\n"
     ]
    },
    {
     "data": {
      "image/png": "[encoded data removed]",
      "text/plain": [
       "<Figure size 432x288 with 1 Axes>"
      ]
     },
     "metadata": {
      "needs_background": "light"
     },
     "output_type": "display_data"
    }
   ],
   "source": [
    "from scipy.stats import binom\n",
    "import matplotlib.pyplot as plt\n",
    "\n",
    "mean = 2\n",
    "n_mean = 20\n",
    "\n",
    "\n",
    "n = 1000\n",
    "p = float(mean)/float(n_mean)\n",
    "r_x = list(range(n+1))\n",
    "\n",
    "Px = [binom.pmf(r,n,p) for r in r_x]\n",
    "\n",
    "Q1 = sum(Px[3:])\n",
    "\n",
    "print(\"Question 2 Answer: \\n atleast 3 defective parts:\" , \"{:.3f}\".format(Q1))\n",
    "\n",
    "plt.bar(r_x,Px)\n",
    "plt.show()"
   ]
  },
  {
   "cell_type": "markdown",
   "id": "376f8f72",
   "metadata": {
    "papermill": {
     "duration": 0.030597,
     "end_time": "2022-03-15T16:37:26.529562",
     "exception": false,
     "start_time": "2022-03-15T16:37:26.498965",
     "status": "completed"
    },
    "tags": []
   },
   "source": [
    "**3) out of 800 families, with 5 children each, how many would you expect to have,**\n",
    "    \n",
    "    a) 3 boys    \n",
    "    b) 5 girls\n",
    "    c) either 2 or 3 boys\n",
    "    \n",
    "**(Assume Equal Probability for boys and girls.)**"
   ]
  },
  {
   "cell_type": "code",
   "execution_count": 3,
   "id": "c00a7706",
   "metadata": {
    "execution": {
     "iopub.execute_input": "2022-03-15T16:37:26.603973Z",
     "iopub.status.busy": "2022-03-15T16:37:26.603207Z",
     "iopub.status.idle": "2022-03-15T16:37:26.607232Z",
     "shell.execute_reply": "2022-03-15T16:37:26.607896Z",
     "shell.execute_reply.started": "2022-03-15T05:16:34.001332Z"
    },
    "papermill": {
     "duration": 0.04676,
     "end_time": "2022-03-15T16:37:26.608103",
     "exception": false,
     "start_time": "2022-03-15T16:37:26.561343",
     "status": "completed"
    },
    "tags": []
   },
   "outputs": [
    {
     "name": "stdout",
     "output_type": "stream",
     "text": [
      "Question 3 Answers:\n",
      "a) 3 Boys:  250.0\n",
      "b) 5 Girls:  25.0\n",
      "c) Either 3 or 2 Boys:  500.0\n"
     ]
    }
   ],
   "source": [
    "from scipy.stats import binom\n",
    "import matplotlib.pyplot as plt\n",
    "import math\n",
    "\n",
    "def nCr(n,r):\n",
    "    return math.factorial(n)/(math.factorial(r)*math.factorial(n-r))\n",
    "\n",
    "n = 800\n",
    "total_child = 5\n",
    "pb = 0.5\n",
    "pg = 0.5\n",
    "\n",
    "pa = (nCr(total_child,3)*math.pow(pb,3)*math.pow(pg,total_child-3))*800\n",
    "pb = (nCr(total_child,5)*math.pow(pg,5)*math.pow(pb,total_child-5))*800\n",
    "pc = pa*2\n",
    "\n",
    "print(\"Question 3 Answers:\")\n",
    "print(\"a) 3 Boys: \", pa)\n",
    "print(\"b) 5 Girls: \", pb)\n",
    "print(\"c) Either 3 or 2 Boys: \", pc)\n",
    "\n"
   ]
  },
  {
   "cell_type": "markdown",
   "id": "fb402089",
   "metadata": {
    "papermill": {
     "duration": 0.031047,
     "end_time": "2022-03-15T16:37:26.670708",
     "exception": false,
     "start_time": "2022-03-15T16:37:26.639661",
     "status": "completed"
    },
    "tags": []
   },
   "source": [
    "**4) A Dice is thrown 6 times.If getting an number is a success, find the probability of**\n",
    "\n",
    "    a) 5 Successes    \n",
    "    b) at least 5 successes    \n",
    "    c) at most 5 successes\n",
    "    "
   ]
  },
  {
   "cell_type": "code",
   "execution_count": 4,
   "id": "3b204090",
   "metadata": {
    "execution": {
     "iopub.execute_input": "2022-03-15T16:37:26.787502Z",
     "iopub.status.busy": "2022-03-15T16:37:26.761941Z",
     "iopub.status.idle": "2022-03-15T16:37:26.907084Z",
     "shell.execute_reply": "2022-03-15T16:37:26.906469Z",
     "shell.execute_reply.started": "2022-03-15T05:17:17.605642Z"
    },
    "papermill": {
     "duration": 0.203519,
     "end_time": "2022-03-15T16:37:26.907248",
     "exception": false,
     "start_time": "2022-03-15T16:37:26.703729",
     "status": "completed"
    },
    "tags": []
   },
   "outputs": [
    {
     "name": "stdout",
     "output_type": "stream",
     "text": [
      "Question 4 Answers:\n",
      "a) 5 Successes:  0.094\n",
      "b) at least 5 Successes:  0.109\n",
      "c) at most 5 Successes:  0.891\n"
     ]
    },
    {
     "data": {
      "image/png": "[encoded data removed]",
      "text/plain": [
       "<Figure size 432x288 with 1 Axes>"
      ]
     },
     "metadata": {
      "needs_background": "light"
     },
     "output_type": "display_data"
    }
   ],
   "source": [
    "from scipy.stats import binom\n",
    "import matplotlib.pyplot as plt\n",
    "\n",
    "n = 6\n",
    "p = 0.5\n",
    "r_x = list(range(n+1))\n",
    "\n",
    "Px = [binom.pmf(r,n,p) for r in r_x]\n",
    "\n",
    "Q1 = Px[5]\n",
    "Q2 = sum(Px[5:])\n",
    "Q3 = sum(Px[0:5])\n",
    "\n",
    "print(\"Question 4 Answers:\")\n",
    "print(\"a) 5 Successes: \", \"{:.3f}\".format(Q1))\n",
    "print(\"b) at least 5 Successes: \", \"{:.3f}\".format(Q2))\n",
    "print(\"c) at most 5 Successes: \", \"{:.3f}\".format(Q3))\n",
    "\n",
    "plt.bar(r_x,Px)\n",
    "plt.show()"
   ]
  },
  {
   "cell_type": "markdown",
   "id": "cd821378",
   "metadata": {
    "papermill": {
     "duration": 0.032506,
     "end_time": "2022-03-15T16:37:26.972647",
     "exception": false,
     "start_time": "2022-03-15T16:37:26.940141",
     "status": "completed"
    },
    "tags": []
   },
   "source": [
    "**5) Assume that 50% of all engineering students are good in mathematics. Determine the probabilities that among 18 engineering students,**\n",
    "\n",
    "    a) exactly 10\n",
    "    b) at least 10\n",
    "    c) at most 8\n",
    "    d) at least 2 and at most 9\n",
    "**are good in mathematics.**"
   ]
  },
  {
   "cell_type": "code",
   "execution_count": 5,
   "id": "0edaa59f",
   "metadata": {
    "execution": {
     "iopub.execute_input": "2022-03-15T16:37:27.049404Z",
     "iopub.status.busy": "2022-03-15T16:37:27.042100Z",
     "iopub.status.idle": "2022-03-15T16:37:27.231133Z",
     "shell.execute_reply": "2022-03-15T16:37:27.231754Z",
     "shell.execute_reply.started": "2022-03-15T05:18:15.276984Z"
    },
    "papermill": {
     "duration": 0.225299,
     "end_time": "2022-03-15T16:37:27.231995",
     "exception": false,
     "start_time": "2022-03-15T16:37:27.006696",
     "status": "completed"
    },
    "tags": []
   },
   "outputs": [
    {
     "name": "stdout",
     "output_type": "stream",
     "text": [
      "Question 5 Answers:\n",
      "a) exactly 10:  0.167\n",
      "b) at least 10:  0.407\n",
      "c) at most 8:  0.240\n",
      "d) at least 2 and at most 9:  0.407\n"
     ]
    },
    {
     "data": {
      "image/png": "[encoded data removed]",
      "text/plain": [
       "<Figure size 432x288 with 1 Axes>"
      ]
     },
     "metadata": {
      "needs_background": "light"
     },
     "output_type": "display_data"
    }
   ],
   "source": [
    "from scipy.stats import binom\n",
    "import matplotlib.pyplot as plt\n",
    "\n",
    "n = 18\n",
    "p = 0.5\n",
    "r_x = list(range(n+1))\n",
    "\n",
    "Px = [binom.pmf(r,n,p) for r in r_x]\n",
    "\n",
    "Q1 = Px[10]\n",
    "Q2 = sum(Px[10:])\n",
    "Q3 = sum(Px[0:8])\n",
    "Q4 = sum(Px[2:9])\n",
    "\n",
    "print(\"Question 5 Answers:\")\n",
    "print(\"a) exactly 10: \", \"{:.3f}\".format(Q1))\n",
    "print(\"b) at least 10: \", \"{:.3f}\".format(Q2))\n",
    "print(\"c) at most 8: \", \"{:.3f}\".format(Q3))\n",
    "print(\"d) at least 2 and at most 9: \", \"{:.3f}\".format(Q4))\n",
    "\n",
    "plt.bar(r_x,Px)\n",
    "plt.show()"
   ]
  },
  {
   "cell_type": "markdown",
   "id": "a509c9f3",
   "metadata": {
    "papermill": {
     "duration": 0.033491,
     "end_time": "2022-03-15T16:37:27.299409",
     "exception": false,
     "start_time": "2022-03-15T16:37:27.265918",
     "status": "completed"
    },
    "tags": []
   },
   "source": [
    "# **Poisson Distribution**"
   ]
  },
  {
   "cell_type": "markdown",
   "id": "f5cf0557",
   "metadata": {
    "papermill": {
     "duration": 0.033297,
     "end_time": "2022-03-15T16:37:27.366517",
     "exception": false,
     "start_time": "2022-03-15T16:37:27.333220",
     "status": "completed"
    },
    "tags": []
   },
   "source": [
    "**Important Functions**\n",
    "\n",
    "*poisson.pmf( r ,n * p)*\n",
    "\n",
    "Where,\n",
    "\n",
    "*     pmf stands for probability mass function \n",
    "*     n = total number of trials in experiment\n",
    "*     r = list of integers 0 to n\n",
    "*     p = probability of success (between 0 to 1)"
   ]
  },
  {
   "cell_type": "markdown",
   "id": "a674a8c1",
   "metadata": {
    "papermill": {
     "duration": 0.033462,
     "end_time": "2022-03-15T16:37:27.433720",
     "exception": false,
     "start_time": "2022-03-15T16:37:27.400258",
     "status": "completed"
    },
    "tags": []
   },
   "source": [
    "**1) Find the probability that at most 5 defective fuses will be found in a box of 200 fuses, if experience shows that 2% of such fuses are defective.**"
   ]
  },
  {
   "cell_type": "code",
   "execution_count": 6,
   "id": "84c00f58",
   "metadata": {
    "execution": {
     "iopub.execute_input": "2022-03-15T16:37:27.510561Z",
     "iopub.status.busy": "2022-03-15T16:37:27.509338Z",
     "iopub.status.idle": "2022-03-15T16:37:28.035083Z",
     "shell.execute_reply": "2022-03-15T16:37:28.034491Z",
     "shell.execute_reply.started": "2022-03-15T05:19:11.046192Z"
    },
    "papermill": {
     "duration": 0.567839,
     "end_time": "2022-03-15T16:37:28.035252",
     "exception": false,
     "start_time": "2022-03-15T16:37:27.467413",
     "status": "completed"
    },
    "tags": []
   },
   "outputs": [
    {
     "name": "stdout",
     "output_type": "stream",
     "text": [
      "Question 1 Answers:\n",
      "probability that at most 5 defective fuses will be found is  0.629\n"
     ]
    },
    {
     "data": {
      "image/png": "[encoded data removed]",
      "text/plain": [
       "<Figure size 432x288 with 1 Axes>"
      ]
     },
     "metadata": {
      "needs_background": "light"
     },
     "output_type": "display_data"
    }
   ],
   "source": [
    "from scipy.stats import poisson\n",
    "import matplotlib.pyplot as plt\n",
    "\n",
    "n = 200\n",
    "p = 0.02\n",
    "lamda = n*p\n",
    "r_x = list(range(n+1))\n",
    "\n",
    "Px = [poisson.pmf(r,lamda) for r in r_x]\n",
    "\n",
    "Q1 = sum(Px[0:5])\n",
    "\n",
    "print(\"Question 1 Answers:\")\n",
    "print(\"probability that at most 5 defective fuses will be found is \", \"{:.3f}\".format(Q1))\n",
    "\n",
    "plt.bar(r_x,Px)\n",
    "plt.show()"
   ]
  },
  {
   "cell_type": "markdown",
   "id": "4184f002",
   "metadata": {
    "papermill": {
     "duration": 0.034891,
     "end_time": "2022-03-15T16:37:28.105996",
     "exception": false,
     "start_time": "2022-03-15T16:37:28.071105",
     "status": "completed"
    },
    "tags": []
   },
   "source": [
    "**2) A book of 585 pages contain 43 pages with misprints.if these pages are randomly distributed throughout the book, what is the probability that 10 pages, selected at random will be free from pages with misprint.**"
   ]
  },
  {
   "cell_type": "code",
   "execution_count": 7,
   "id": "f77fcff5",
   "metadata": {
    "execution": {
     "iopub.execute_input": "2022-03-15T16:37:28.180654Z",
     "iopub.status.busy": "2022-03-15T16:37:28.179590Z",
     "iopub.status.idle": "2022-03-15T16:37:29.718722Z",
     "shell.execute_reply": "2022-03-15T16:37:29.719380Z",
     "shell.execute_reply.started": "2022-03-15T05:20:45.429477Z"
    },
    "papermill": {
     "duration": 1.578746,
     "end_time": "2022-03-15T16:37:29.719599",
     "exception": false,
     "start_time": "2022-03-15T16:37:28.140853",
     "status": "completed"
    },
    "tags": []
   },
   "outputs": [
    {
     "name": "stdout",
     "output_type": "stream",
     "text": [
      "Question 2 Answers:\n",
      "probability that 10 pages will be free from misprint 0.999999998740\n"
     ]
    },
    {
     "data": {
      "image/png": "[encoded data removed]",
      "text/plain": [
       "<Figure size 432x288 with 1 Axes>"
      ]
     },
     "metadata": {
      "needs_background": "light"
     },
     "output_type": "display_data"
    }
   ],
   "source": [
    "from scipy.stats import poisson\n",
    "import matplotlib.pyplot as plt\n",
    "\n",
    "n = 585\n",
    "p = 43/585\n",
    "lamda = n*p\n",
    "r_x = list(range(n+1))\n",
    "\n",
    "Px = [poisson.pmf(r,lamda) for r in r_x]\n",
    "\n",
    "Q1 = 1-Px[10]\n",
    "\n",
    "print(\"Question 2 Answers:\")\n",
    "print(\"probability that 10 pages will be free from misprint\", \"{:.12f}\".format(Q1))\n",
    "\n",
    "plt.bar(r_x,Px)\n",
    "plt.show()"
   ]
  },
  {
   "cell_type": "markdown",
   "id": "1e6a3a16",
   "metadata": {
    "papermill": {
     "duration": 0.036944,
     "end_time": "2022-03-15T16:37:29.795069",
     "exception": false,
     "start_time": "2022-03-15T16:37:29.758125",
     "status": "completed"
    },
    "tags": []
   },
   "source": [
    "**3) In a certain factory turning out razor blades, there is a small chance of 0.002 for any blade to be defective. The blades are supplied in packets of 10. Calculate the approximate number of packets containing no defective, one defective, two defective, at least two defective, at most 4 defective blades respectively in a consignment of 10,000 packetes.**"
   ]
  },
  {
   "cell_type": "code",
   "execution_count": 8,
   "id": "c3078cd8",
   "metadata": {
    "execution": {
     "iopub.execute_input": "2022-03-15T16:37:29.880617Z",
     "iopub.status.busy": "2022-03-15T16:37:29.879480Z",
     "iopub.status.idle": "2022-03-15T16:37:30.074605Z",
     "shell.execute_reply": "2022-03-15T16:37:30.075334Z",
     "shell.execute_reply.started": "2022-03-15T04:32:05.015811Z"
    },
    "papermill": {
     "duration": 0.242762,
     "end_time": "2022-03-15T16:37:30.075565",
     "exception": false,
     "start_time": "2022-03-15T16:37:29.832803",
     "status": "completed"
    },
    "tags": []
   },
   "outputs": [
    {
     "name": "stdout",
     "output_type": "stream",
     "text": [
      "Question 3 Answers:\n",
      "a) O defective:  9801\n",
      "b) 1 defective:  196\n",
      "c) 2 defective:  1\n",
      "d) at least 2 defective:  1\n",
      "a) at most 4 defective:  9999\n"
     ]
    },
    {
     "data": {
      "image/png": "[encoded data removed]",
      "text/plain": [
       "<Figure size 432x288 with 1 Axes>"
      ]
     },
     "metadata": {
      "needs_background": "light"
     },
     "output_type": "display_data"
    }
   ],
   "source": [
    "from scipy.stats import poisson\n",
    "import matplotlib.pyplot as plt\n",
    "\n",
    "n = 10\n",
    "p = 0.002\n",
    "lamda = n*p\n",
    "r_x = list(range(n+1))\n",
    "\n",
    "Px = [poisson.pmf(r,lamda) for r in r_x]\n",
    "\n",
    "Q1 = Px[0]*10000\n",
    "Q2 = Px[1]*10000\n",
    "Q3 = Px[2]*10000\n",
    "Q4 = sum(Px[2:])*10000\n",
    "Q5 = sum(Px[:4])*10000\n",
    "\n",
    "print(\"Question 3 Answers:\")\n",
    "print(\"a) O defective: \", int(Q1))\n",
    "print(\"b) 1 defective: \", int(Q2))\n",
    "print(\"c) 2 defective: \", int(Q3))\n",
    "print(\"d) at least 2 defective: \", int(Q4))\n",
    "print(\"a) at most 4 defective: \", int(Q5))\n",
    "\n",
    "plt.bar(r_x,Px)\n",
    "plt.show()"
   ]
  },
  {
   "cell_type": "markdown",
   "id": "6894b413",
   "metadata": {
    "papermill": {
     "duration": 0.036938,
     "end_time": "2022-03-15T16:37:30.154108",
     "exception": false,
     "start_time": "2022-03-15T16:37:30.117170",
     "status": "completed"
    },
    "tags": []
   },
   "source": [
    "**4) The average number of phone calls/minute coming into a switch board between 2 and 4 pm is 2.5. Determine the probability that during one particular minute there will be**\n",
    "    \n",
    "    a)0\n",
    "    b)1\n",
    "    c)2\n",
    "    d) 4 or fewer\n",
    "    e) more than 6\n",
    "    f) at most\n",
    "   **5 calls.**\n",
    "    "
   ]
  },
  {
   "cell_type": "code",
   "execution_count": 9,
   "id": "5d456025",
   "metadata": {
    "execution": {
     "iopub.execute_input": "2022-03-15T16:37:30.239940Z",
     "iopub.status.busy": "2022-03-15T16:37:30.238729Z",
     "iopub.status.idle": "2022-03-15T16:37:30.437660Z",
     "shell.execute_reply": "2022-03-15T16:37:30.438210Z",
     "shell.execute_reply.started": "2022-03-15T05:15:51.505535Z"
    },
    "papermill": {
     "duration": 0.246821,
     "end_time": "2022-03-15T16:37:30.438415",
     "exception": false,
     "start_time": "2022-03-15T16:37:30.191594",
     "status": "completed"
    },
    "tags": []
   },
   "outputs": [
    {
     "name": "stdout",
     "output_type": "stream",
     "text": [
      "Question 3 Answers:\n",
      "a) O calls/minute:  0.082\n",
      "b) 1 call/minute:  0.205\n",
      "c) 2 calls/minute:  0.257\n",
      "d) at most 4 calls/minute:  0.758\n",
      "e) at least 6 calls/minute:  0.042\n",
      "f) at most 5 calls/minute:  0.891\n"
     ]
    },
    {
     "data": {
      "image/png": "[encoded data removed]",
      "text/plain": [
       "<Figure size 432x288 with 1 Axes>"
      ]
     },
     "metadata": {
      "needs_background": "light"
     },
     "output_type": "display_data"
    }
   ],
   "source": [
    "from scipy.stats import poisson\n",
    "import matplotlib.pyplot as plt\n",
    "\n",
    "lamda = 2.5\n",
    "r_x = list(range(n+1))\n",
    "\n",
    "Px = [poisson.pmf(r,lamda) for r in r_x]\n",
    "\n",
    "Q1 = Px[0]\n",
    "Q2 = Px[1]\n",
    "Q3 = Px[2]\n",
    "Q4 = sum(Px[:4])\n",
    "Q5 = sum(Px[6:])\n",
    "Q6 = sum(Px[:5])\n",
    "\n",
    "print(\"Question 3 Answers:\")\n",
    "print(\"a) O calls/minute: \", \"{:.3f}\".format(Q1))\n",
    "print(\"b) 1 call/minute: \", \"{:.3f}\".format(Q2))\n",
    "print(\"c) 2 calls/minute: \", \"{:.3f}\".format(Q3))\n",
    "print(\"d) at most 4 calls/minute: \", \"{:.3f}\".format(Q4))\n",
    "print(\"e) at least 6 calls/minute: \", \"{:.3f}\".format(Q5))\n",
    "print(\"f) at most 5 calls/minute: \", \"{:.3f}\".format(Q6))\n",
    "\n",
    "plt.bar(r_x,Px)\n",
    "plt.show()"
   ]
  },
  {
   "cell_type": "markdown",
   "id": "686140c1",
   "metadata": {
    "papermill": {
     "duration": 0.037965,
     "end_time": "2022-03-15T16:37:30.515349",
     "exception": false,
     "start_time": "2022-03-15T16:37:30.477384",
     "status": "completed"
    },
    "tags": []
   },
   "source": [
    "**5) Suppose 220 misprint are distributed randomly throughout a boo of 200 pages. find the probability that a given page contains**\n",
    "    \n",
    "    a) No misprint\n",
    "    b) One misprint\n",
    "    c) More than 2 misprints\n",
    "    d) at most 2 misprints"
   ]
  },
  {
   "cell_type": "code",
   "execution_count": 10,
   "id": "9672d186",
   "metadata": {
    "execution": {
     "iopub.execute_input": "2022-03-15T16:37:30.596185Z",
     "iopub.status.busy": "2022-03-15T16:37:30.595368Z",
     "iopub.status.idle": "2022-03-15T16:37:31.168270Z",
     "shell.execute_reply": "2022-03-15T16:37:31.168808Z",
     "shell.execute_reply.started": "2022-03-15T12:04:51.820894Z"
    },
    "papermill": {
     "duration": 0.615552,
     "end_time": "2022-03-15T16:37:31.169006",
     "exception": false,
     "start_time": "2022-03-15T16:37:30.553454",
     "status": "completed"
    },
    "tags": []
   },
   "outputs": [
    {
     "name": "stdout",
     "output_type": "stream",
     "text": [
      "Question 3 Answers:\n",
      "a) O misprints:  0.333\n",
      "b) 1 misprints:  0.366\n",
      "c) more than 2 misprints:  0.301\n",
      "d) at most 2 misprints:  0.699\n"
     ]
    },
    {
     "data": {
      "image/png": "[encoded data removed]",
      "text/plain": [
       "<Figure size 432x288 with 1 Axes>"
      ]
     },
     "metadata": {
      "needs_background": "light"
     },
     "output_type": "display_data"
    }
   ],
   "source": [
    "from scipy.stats import poisson\n",
    "import matplotlib.pyplot as plt\n",
    "\n",
    "n = 200\n",
    "p = 220\n",
    "lamda = float(p)/float(n)\n",
    "r_x = list(range(n+1))\n",
    "\n",
    "Px = [poisson.pmf(r,lamda) for r in r_x]\n",
    "\n",
    "Q1 = Px[0]\n",
    "Q2 = Px[1]\n",
    "Q3 = sum(Px[2:])\n",
    "Q4 = sum(Px[:2])\n",
    "\n",
    "print(\"Question 3 Answers:\")\n",
    "print(\"a) O misprints: \", \"{:.3f}\".format(Q1))\n",
    "print(\"b) 1 misprints: \", \"{:.3f}\".format(Q2))\n",
    "print(\"c) more than 2 misprints: \", \"{:.3f}\".format(Q3))\n",
    "print(\"d) at most 2 misprints: \", \"{:.3f}\".format(Q4))\n",
    "\n",
    "plt.bar(r_x,Px)\n",
    "plt.show()"
   ]
  },
  {
   "cell_type": "markdown",
   "id": "321664e0",
   "metadata": {
    "papermill": {
     "duration": 0.039075,
     "end_time": "2022-03-15T16:37:31.247897",
     "exception": false,
     "start_time": "2022-03-15T16:37:31.208822",
     "status": "completed"
    },
    "tags": []
   },
   "source": [
    "# **Normal Distribution**"
   ]
  },
  {
   "cell_type": "markdown",
   "id": "35b06246",
   "metadata": {
    "papermill": {
     "duration": 0.040859,
     "end_time": "2022-03-15T16:37:31.331520",
     "exception": false,
     "start_time": "2022-03-15T16:37:31.290661",
     "status": "completed"
    },
    "tags": []
   },
   "source": [
    "**Important Functions**\n",
    "\n",
    "*scipy.stats.norm.sf( x , mu , sd )*\n",
    "*scipy.stats.norm.cdf( x , mu , sd )*\n",
    "\n",
    "Where,\n",
    "\n",
    "*     cdf stands for cumulative distribution function which is used to calculate probability for <=x\n",
    "*     sf stands for survival function which is same as 1-cdf but with more accuracy i.e to calculate probability for >=x\n",
    "*     x = random variable for which we need to find probability\n",
    "*     mu = mean\n",
    "*     sd = standard deviation"
   ]
  },
  {
   "cell_type": "markdown",
   "id": "662be5b0",
   "metadata": {
    "papermill": {
     "duration": 0.03913,
     "end_time": "2022-03-15T16:37:31.410306",
     "exception": false,
     "start_time": "2022-03-15T16:37:31.371176",
     "status": "completed"
    },
    "tags": []
   },
   "source": [
    "**1) In a test on 2000 electric bulbs, it was found that the life of a particular make was normally distributed with an average life of 2040 hours and standard deviation of 60 hours. Estimate the number of bulbs likely to burn for**\n",
    "\n",
    "    a) More than 2150 hours\n",
    "    b) Less than 1950 hours\n",
    "    c) More than 1920 hours but less than 2160 hours"
   ]
  },
  {
   "cell_type": "code",
   "execution_count": 11,
   "id": "c0bd26e4",
   "metadata": {
    "execution": {
     "iopub.execute_input": "2022-03-15T16:37:31.526821Z",
     "iopub.status.busy": "2022-03-15T16:37:31.498299Z",
     "iopub.status.idle": "2022-03-15T16:37:31.700074Z",
     "shell.execute_reply": "2022-03-15T16:37:31.699459Z",
     "shell.execute_reply.started": "2022-03-15T16:17:59.417366Z"
    },
    "papermill": {
     "duration": 0.250655,
     "end_time": "2022-03-15T16:37:31.700238",
     "exception": false,
     "start_time": "2022-03-15T16:37:31.449583",
     "status": "completed"
    },
    "tags": []
   },
   "outputs": [
    {
     "name": "stdout",
     "output_type": "stream",
     "text": [
      "Question 3 Answers:\n",
      " Life of Electric Bulbs:\n",
      "a) More than 2150 hours:  66\n",
      "b) Less than 1950 hours:  133\n",
      "c) More than 1920 hours but less than 2160 hours:  1908\n"
     ]
    },
    {
     "data": {
      "image/png": "[encoded data removed]",
      "text/plain": [
       "<Figure size 432x288 with 1 Axes>"
      ]
     },
     "metadata": {
      "needs_background": "light"
     },
     "output_type": "display_data"
    }
   ],
   "source": [
    "import scipy.stats\n",
    "import numpy as np\n",
    "import matplotlib.pyplot as plt\n",
    "\n",
    "mu = 2040 \n",
    "sd = 60\n",
    "\n",
    "Q1 = scipy.stats.norm.sf(2150,mu,sd)*2000\n",
    "Q2 = scipy.stats.norm.cdf(1950,mu,sd)*2000\n",
    "Q3 = (scipy.stats.norm.sf(1920,mu,sd) - scipy.stats.norm.sf(2160,mu,sd))*2000\n",
    "\n",
    "print(\"Question 3 Answers:\\n Life of Electric Bulbs:\")\n",
    "print(\"a) More than 2150 hours: \", int(Q1))\n",
    "print(\"b) Less than 1950 hours: \", int(Q2))\n",
    "print(\"c) More than 1920 hours but less than 2160 hours: \", int(Q3))\n",
    "\n",
    "x = np.linspace(mu - 3*sd, mu + 3*sd, 100)\n",
    "plt.plot(x, scipy.stats.norm.pdf(x, mu, sd)*1000)\n",
    "plt.show()"
   ]
  },
  {
   "cell_type": "markdown",
   "id": "55e1bc88",
   "metadata": {
    "papermill": {
     "duration": 0.040678,
     "end_time": "2022-03-15T16:37:31.782162",
     "exception": false,
     "start_time": "2022-03-15T16:37:31.741484",
     "status": "completed"
    },
    "tags": []
   },
   "source": [
    "**2) The mean height of 500 students is 151 cm and the standard deviation is 15 cm. Assuming that the height are normally distributed, find**\n",
    "    \n",
    "    a) how many student's height lie between 120 to 155 cm.\n",
    "    b) how many student's height is more than 130 cm.\n",
    "    c) how many student's height is less than 140 cm."
   ]
  },
  {
   "cell_type": "code",
   "execution_count": 12,
   "id": "e1f4f57f",
   "metadata": {
    "execution": {
     "iopub.execute_input": "2022-03-15T16:37:31.875799Z",
     "iopub.status.busy": "2022-03-15T16:37:31.875082Z",
     "iopub.status.idle": "2022-03-15T16:37:32.051152Z",
     "shell.execute_reply": "2022-03-15T16:37:32.050517Z",
     "shell.execute_reply.started": "2022-03-15T16:15:04.124671Z"
    },
    "papermill": {
     "duration": 0.226257,
     "end_time": "2022-03-15T16:37:32.051315",
     "exception": false,
     "start_time": "2022-03-15T16:37:31.825058",
     "status": "completed"
    },
    "tags": []
   },
   "outputs": [
    {
     "name": "stdout",
     "output_type": "stream",
     "text": [
      "Question 3 Answers:\n",
      " Number of Students:\n",
      "a) Height lies between 120 and 155 cm:  292\n",
      "b) Height Greater than 130 cm:  459\n",
      "c) Height Less than 140 cm:  115\n"
     ]
    },
    {
     "data": {
      "image/png": "[encoded data removed]",
      "text/plain": [
       "<Figure size 432x288 with 1 Axes>"
      ]
     },
     "metadata": {
      "needs_background": "light"
     },
     "output_type": "display_data"
    }
   ],
   "source": [
    "import scipy.stats\n",
    "import numpy as np\n",
    "import matplotlib.pyplot as plt\n",
    "\n",
    "mu = 151 \n",
    "sd = 15\n",
    "\n",
    "Q1 = (scipy.stats.norm.sf(120,mu,sd) - scipy.stats.norm.sf(155,mu,sd))*500\n",
    "Q2 = scipy.stats.norm.sf(130,mu,sd)*500\n",
    "Q3 = scipy.stats.norm.cdf(140,mu,sd)*500\n",
    "\n",
    "print(\"Question 3 Answers:\\n Number of Students:\")\n",
    "print(\"a) Height lies between 120 and 155 cm: \", int(Q1))\n",
    "print(\"b) Height Greater than 130 cm: \", int(Q2))\n",
    "print(\"c) Height Less than 140 cm: \", int(Q3))\n",
    "\n",
    "x = np.linspace(mu - 3*sd, mu + 3*sd, 100)\n",
    "plt.plot(x, scipy.stats.norm.pdf(x, mu, sd)*1000)\n",
    "plt.show()"
   ]
  },
  {
   "cell_type": "markdown",
   "id": "4efd1b64",
   "metadata": {
    "papermill": {
     "duration": 0.041838,
     "end_time": "2022-03-15T16:37:32.136377",
     "exception": false,
     "start_time": "2022-03-15T16:37:32.094539",
     "status": "completed"
    },
    "tags": []
   },
   "source": [
    "**3) In an intelligence test was administered to 1000 students, the average was 42 and standard deviation was 24.find**\n",
    "    \n",
    "    a) The number of students exceeding a score 50.\n",
    "    b) The number of students lying between 30 and 54."
   ]
  },
  {
   "cell_type": "code",
   "execution_count": 13,
   "id": "9e58e0c6",
   "metadata": {
    "execution": {
     "iopub.execute_input": "2022-03-15T16:37:32.232286Z",
     "iopub.status.busy": "2022-03-15T16:37:32.231497Z",
     "iopub.status.idle": "2022-03-15T16:37:32.430234Z",
     "shell.execute_reply": "2022-03-15T16:37:32.430858Z",
     "shell.execute_reply.started": "2022-03-15T12:56:17.288113Z"
    },
    "papermill": {
     "duration": 0.251412,
     "end_time": "2022-03-15T16:37:32.431064",
     "exception": false,
     "start_time": "2022-03-15T16:37:32.179652",
     "status": "completed"
    },
    "tags": []
   },
   "outputs": [
    {
     "name": "stdout",
     "output_type": "stream",
     "text": [
      "Question 3 Answers:\n",
      " Number of Students:\n",
      "a) Exceeding a score 50:  369\n",
      "b) Score lying between 30 and 54:  382\n"
     ]
    },
    {
     "data": {
      "image/png": "[encoded data removed]",
      "text/plain": [
       "<Figure size 432x288 with 1 Axes>"
      ]
     },
     "metadata": {
      "needs_background": "light"
     },
     "output_type": "display_data"
    }
   ],
   "source": [
    "import scipy.stats\n",
    "import numpy as np\n",
    "import matplotlib.pyplot as plt\n",
    "\n",
    "mu = 42 \n",
    "sd = 24\n",
    "\n",
    "Q1 = scipy.stats.norm.sf(50,mu,sd)*1000\n",
    "Q2 = (scipy.stats.norm.sf(30,mu,sd) - scipy.stats.norm.sf(54,mu,sd))*1000\n",
    "\n",
    "print(\"Question 3 Answers:\\n Number of Students:\")\n",
    "print(\"a) Exceeding a score 50: \", int(Q1))\n",
    "print(\"b) Score lying between 30 and 54: \", int(Q2))\n",
    "\n",
    "x = np.linspace(mu - 3*sd, mu + 3*sd, 100)\n",
    "plt.plot(x, scipy.stats.norm.pdf(x, mu, sd)*1000)\n",
    "plt.show()"
   ]
  },
  {
   "cell_type": "markdown",
   "id": "53a60dc0",
   "metadata": {
    "papermill": {
     "duration": 0.042856,
     "end_time": "2022-03-15T16:37:32.517389",
     "exception": false,
     "start_time": "2022-03-15T16:37:32.474533",
     "status": "completed"
    },
    "tags": []
   },
   "source": [
    "**4) Determine the expected number of boys whose weight is**\n",
    "    \n",
    "    a) between 65 and 70 kg.\n",
    "    b) greater than or equal to 72 kg.\n",
    "**If the weight of 800 boys follows normal distribution with mean = 6 and standard deviation = 5.**"
   ]
  },
  {
   "cell_type": "code",
   "execution_count": 14,
   "id": "771aab25",
   "metadata": {
    "execution": {
     "iopub.execute_input": "2022-03-15T16:37:32.615661Z",
     "iopub.status.busy": "2022-03-15T16:37:32.614540Z",
     "iopub.status.idle": "2022-03-15T16:37:32.799428Z",
     "shell.execute_reply": "2022-03-15T16:37:32.800042Z",
     "shell.execute_reply.started": "2022-03-15T12:51:07.564015Z"
    },
    "papermill": {
     "duration": 0.239423,
     "end_time": "2022-03-15T16:37:32.800266",
     "exception": false,
     "start_time": "2022-03-15T16:37:32.560843",
     "status": "completed"
    },
    "tags": []
   },
   "outputs": [
    {
     "name": "stdout",
     "output_type": "stream",
     "text": [
      "Question 4 Answers:\n",
      " Number of Students:\n",
      "a) between 65 and 70 kg:  293\n",
      "b) greater than or equal to 72 kg:  92\n"
     ]
    },
    {
     "data": {
      "image/png": "[encoded data removed]",
      "text/plain": [
       "<Figure size 432x288 with 1 Axes>"
      ]
     },
     "metadata": {
      "needs_background": "light"
     },
     "output_type": "display_data"
    }
   ],
   "source": [
    "import scipy.stats\n",
    "import numpy as np\n",
    "import matplotlib.pyplot as plt\n",
    "\n",
    "mu = 66 \n",
    "sd = 5\n",
    "\n",
    "Q1 = (scipy.stats.norm.sf(65,mu,sd) - scipy.stats.norm.sf(70,mu,sd))*800\n",
    "Q2 = scipy.stats.norm.sf(72,mu,sd)*800\n",
    "\n",
    "print(\"Question 4 Answers:\\n Number of Students:\")\n",
    "print(\"a) between 65 and 70 kg: \", int(Q1))\n",
    "print(\"b) greater than or equal to 72 kg: \", int(Q2))\n",
    "\n",
    "x = np.linspace(mu - 3*sd, mu + 3*sd, 100)\n",
    "plt.plot(x, scipy.stats.norm.pdf(x, mu, sd)*800)\n",
    "plt.show()"
   ]
  },
  {
   "cell_type": "markdown",
   "id": "2d3f3cd8",
   "metadata": {
    "papermill": {
     "duration": 0.045664,
     "end_time": "2022-03-15T16:37:32.891927",
     "exception": false,
     "start_time": "2022-03-15T16:37:32.846263",
     "status": "completed"
    },
    "tags": []
   },
   "source": [
    "**5) Find the area under the normal curve:**\n",
    "    \n",
    "    a) to the left of Z = -1.78\n",
    "    b) to the left of Z =  0.56\n",
    "    c) to the right of Z = -1.45\n",
    "    d) Corresponding to Z >= 2.16\n",
    "    e) Corresponding to -0.80 <= Z <= 1.53\n",
    "    f) to the left of Z = -2.52 and to the right of Z = 1.83"
   ]
  },
  {
   "cell_type": "code",
   "execution_count": 15,
   "id": "690bc9bd",
   "metadata": {
    "execution": {
     "iopub.execute_input": "2022-03-15T16:37:32.991776Z",
     "iopub.status.busy": "2022-03-15T16:37:32.991077Z",
     "iopub.status.idle": "2022-03-15T16:37:33.192086Z",
     "shell.execute_reply": "2022-03-15T16:37:33.192757Z",
     "shell.execute_reply.started": "2022-03-15T12:43:27.882646Z"
    },
    "papermill": {
     "duration": 0.256,
     "end_time": "2022-03-15T16:37:33.193005",
     "exception": false,
     "start_time": "2022-03-15T16:37:32.937005",
     "status": "completed"
    },
    "tags": []
   },
   "outputs": [
    {
     "name": "stdout",
     "output_type": "stream",
     "text": [
      "Question 5 Answers:\n",
      "a) to the left of Z = -1.78:  0.0375\n",
      "b) to the left of Z =  0.56:  0.7123\n",
      "c) to the right of Z = -1.45:  0.9265\n",
      "d) Corresponding to Z >= 2.16:  0.0154\n",
      "e) Corresponding to -0.80 <= Z <= 1.53:  0.7251\n",
      "f) to the left of Z = -2.52 and to the right of Z = 1.83:  0.0336\n"
     ]
    },
    {
     "data": {
      "image/png": "[encoded data removed]",
      "text/plain": [
       "<Figure size 432x288 with 1 Axes>"
      ]
     },
     "metadata": {
      "needs_background": "light"
     },
     "output_type": "display_data"
    }
   ],
   "source": [
    "import scipy.stats\n",
    "import numpy as np\n",
    "import matplotlib.pyplot as plt\n",
    "\n",
    "mu = 0 \n",
    "sd = 1\n",
    "\n",
    "Q1 = scipy.stats.norm.cdf(-1.78,mu,sd)\n",
    "Q2 = scipy.stats.norm.cdf(0.56,mu,sd)\n",
    "Q3 = scipy.stats.norm.sf(-1.45,mu,sd)\n",
    "Q4 = scipy.stats.norm.sf(2.16,mu,sd)\n",
    "Q5 = scipy.stats.norm.sf(-0.8,mu,sd) - scipy.stats.norm.sf(1.53,mu,sd)\n",
    "Q6 = scipy.stats.norm.cdf(-252,mu,sd) + scipy.stats.norm.sf(1.83,mu,sd)\n",
    "\n",
    "\n",
    "print(\"Question 5 Answers:\")\n",
    "print(\"a) to the left of Z = -1.78: \", \"{:.4f}\".format(Q1))\n",
    "print(\"b) to the left of Z =  0.56: \", \"{:.4f}\".format(Q2))\n",
    "print(\"c) to the right of Z = -1.45: \", \"{:.4f}\".format(Q3))\n",
    "print(\"d) Corresponding to Z >= 2.16: \", \"{:.4f}\".format(Q4))\n",
    "print(\"e) Corresponding to -0.80 <= Z <= 1.53: \", \"{:.4f}\".format(Q5))\n",
    "print(\"f) to the left of Z = -2.52 and to the right of Z = 1.83: \", \"{:.4f}\".format(Q6))\n",
    "\n",
    "x = np.linspace(mu - 3*sd, mu + 3*sd, 100)\n",
    "plt.plot(x, scipy.stats.norm.pdf(x, mu, sd))\n",
    "plt.show()"
   ]
  }
 ],
 "metadata": {
  "kernelspec": {
   "display_name": "Python 3",
   "language": "python",
   "name": "python3"
  },
  "language_info": {
   "codemirror_mode": {
    "name": "ipython",
    "version": 3
   },
   "file_extension": ".py",
   "mimetype": "text/x-python",
   "name": "python",
   "nbconvert_exporter": "python",
   "pygments_lexer": "ipython3",
   "version": "3.7.12"
  },
  "papermill": {
   "default_parameters": {},
   "duration": 22.169037,
   "end_time": "2022-03-15T16:37:34.252289",
   "environment_variables": {},
   "exception": null,
   "input_path": "__notebook__.ipynb",
   "output_path": "__notebook__.ipynb",
   "parameters": {},
   "start_time": "2022-03-15T16:37:12.083252",
   "version": "2.3.3"
  }
 },
 "nbformat": 4,
 "nbformat_minor": 5
}
