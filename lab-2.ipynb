{
 "cells": [
  {
   "cell_type": "code",
   "execution_count": 1,
   "id": "d93c2ebf",
   "metadata": {
    "_cell_guid": "b1076dfc-b9ad-4769-8c92-a6c4dae69d19",
    "_uuid": "8f2839f25d086af736a60e9eeb907d3b93b6e0e5",
    "execution": {
     "iopub.execute_input": "2022-03-08T03:32:13.083893Z",
     "iopub.status.busy": "2022-03-08T03:32:13.082561Z",
     "iopub.status.idle": "2022-03-08T03:32:13.304835Z",
     "shell.execute_reply": "2022-03-08T03:32:13.305369Z",
     "shell.execute_reply.started": "2022-03-08T03:22:18.184956Z"
    },
    "papermill": {
     "duration": 0.230443,
     "end_time": "2022-03-08T03:32:13.305676",
     "exception": false,
     "start_time": "2022-03-08T03:32:13.075233",
     "status": "completed"
    },
    "tags": []
   },
   "outputs": [
    {
     "data": {
      "image/png": "[encoded data removed]",
      "text/plain": [
       "<Figure size 432x288 with 1 Axes>"
      ]
     },
     "metadata": {
      "needs_background": "light"
     },
     "output_type": "display_data"
    }
   ],
   "source": [
    "import numpy as np\n",
    "import pandas as pd\n",
    "import matplotlib.pyplot as plt\n",
    "\n",
    "df = pd.read_csv('../input/linearregressiondata/Data Linear Regression.csv',header=0)\n",
    "\n",
    "n = df.shape[0]\n",
    "\n",
    "sumy = df[\"Life Expectancy\"].sum()\n",
    "sumx = df[\"Year\"].sum()\n",
    "temp = df[\"Year\"]**2\n",
    "sumx2 = temp.sum()\n",
    "temp1 = df[\"Life Expectancy\"]*df[\"Year\"]\n",
    "sumxy = temp1.sum()\n",
    "\n",
    "a = [[sumx,n],[sumx2,sumx]]\n",
    "A = np.array(a)\n",
    "inv_A = np.linalg.inv(A)\n",
    "\n",
    "b = [[sumy],[sumxy]]\n",
    "B = np.array(b)\n",
    "\n",
    "#x = [[x],[y]]\n",
    "#X = np.array(x)\n",
    "\n",
    "X = np.linalg.inv(A).dot(B)\n",
    "\n",
    "m = np.linspace(1990,2025)\n",
    "n = X[0]*m + X[1]\n",
    "\n",
    "plt.plot(m,n,'-r')\n",
    "plt.title(\"Linear Regression\")\n",
    "plt.grid()\n",
    "plt.show()\n",
    "\n",
    "#print(n)\n",
    "\n",
    "#print(sumx)\n",
    "#print(sumy)\n",
    "#print(sumx2)\n",
    "#print(sumxy)\n",
    "#print(X)"
   ]
  }
 ],
 "metadata": {
  "kernelspec": {
   "display_name": "Python 3",
   "language": "python",
   "name": "python3"
  },
  "language_info": {
   "codemirror_mode": {
    "name": "ipython",
    "version": 3
   },
   "file_extension": ".py",
   "mimetype": "text/x-python",
   "name": "python",
   "nbconvert_exporter": "python",
   "pygments_lexer": "ipython3",
   "version": "3.7.12"
  },
  "papermill": {
   "default_parameters": {},
   "duration": 10.723804,
   "end_time": "2022-03-08T03:32:13.922061",
   "environment_variables": {},
   "exception": null,
   "input_path": "__notebook__.ipynb",
   "output_path": "__notebook__.ipynb",
   "parameters": {},
   "start_time": "2022-03-08T03:32:03.198257",
   "version": "2.3.3"
  }
 },
 "nbformat": 4,
 "nbformat_minor": 5
}
