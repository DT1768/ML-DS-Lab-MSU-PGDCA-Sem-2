{
 "cells": [
  {
   "cell_type": "code",
   "execution_count": 1,
   "id": "6d51c4c0",
   "metadata": {
    "_cell_guid": "b1076dfc-b9ad-4769-8c92-a6c4dae69d19",
    "_uuid": "8f2839f25d086af736a60e9eeb907d3b93b6e0e5",
    "execution": {
     "iopub.execute_input": "2022-02-23T01:11:33.728943Z",
     "iopub.status.busy": "2022-02-23T01:11:33.727929Z",
     "iopub.status.idle": "2022-02-23T01:11:33.768842Z",
     "shell.execute_reply": "2022-02-23T01:11:33.768206Z",
     "shell.execute_reply.started": "2022-02-23T00:55:18.130491Z"
    },
    "papermill": {
     "duration": 0.060468,
     "end_time": "2022-02-23T01:11:33.769032",
     "exception": false,
     "start_time": "2022-02-23T01:11:33.708564",
     "status": "completed"
    },
    "tags": []
   },
   "outputs": [
    {
     "name": "stdout",
     "output_type": "stream",
     "text": [
      "Mean(Calculated): Data    461.426471\n",
      "dtype: float64\n",
      "Mean(Function): Data    461.426471\n",
      "dtype: float64\n",
      "Median: Data    456.5\n",
      "dtype: float64\n",
      "Mode:    Data\n",
      "0    18\n",
      "1   215\n",
      "2   245\n",
      "3   299\n",
      "4   543\n",
      "Variance(Calculated): Data    79347.568123\n",
      "dtype: float64\n",
      "Standard Deviation(Calculated): Data    281.687004\n",
      "dtype: float64\n",
      "Variance(Function): Data    79935.327887\n",
      "dtype: float64\n",
      "Standard Deviation(Function): Data    282.728364\n",
      "dtype: float64\n"
     ]
    }
   ],
   "source": [
    "#assignment1\n",
    "#1)list of python libraries\n",
    "#2)write a python code for central tendency: Mean,Median,mode\n",
    "#3)importing csv file\n",
    "#4)write a python code for  measure of dispertion:standard deviation, Variance\n",
    "#importing Libraries\n",
    "import pandas as pd\n",
    "import numpy as np\n",
    "import matplotlib.pyplot as plt\n",
    "#importing csv file\n",
    "#add file path at '../input/random-data/Random Data.csv'\n",
    "df = pd.read_csv('../input/random-data/Random Data.csv',header = 0)\n",
    "#mean,median,mode,Variance,standard Deviation\n",
    "number_of_rows = df.shape[0]\n",
    "sum_of_data = df.sum()\n",
    "mean = sum_of_data/number_of_rows\n",
    "print(\"Mean(Calculated):\",mean)\n",
    "print(\"Mean(Function):\",df.mean())\n",
    "print(\"Median:\",df.median())\n",
    "print(\"Mode:\",df.mode())\n",
    "df1 = (df-mean)**2\n",
    "variance = df1.sum()/(df1.shape[0])\n",
    "std = np.sqrt(variance)\n",
    "print(\"Variance(Calculated):\",variance)\n",
    "print(\"Standard Deviation(Calculated):\",std)\n",
    "print(\"Variance(Function):\",df.var())\n",
    "print(\"Standard Deviation(Function):\",df.std())\n",
    "# Here calculated Variance slightly differs from function variance as calculation involves square of floating numbers which exceeds limits of floating numbers"
   ]
  }
 ],
 "metadata": {
  "kernelspec": {
   "display_name": "Python 3",
   "language": "python",
   "name": "python3"
  },
  "language_info": {
   "codemirror_mode": {
    "name": "ipython",
    "version": 3
   },
   "file_extension": ".py",
   "mimetype": "text/x-python",
   "name": "python",
   "nbconvert_exporter": "python",
   "pygments_lexer": "ipython3",
   "version": "3.7.12"
  },
  "papermill": {
   "default_parameters": {},
   "duration": 10.267809,
   "end_time": "2022-02-23T01:11:34.381993",
   "environment_variables": {},
   "exception": null,
   "input_path": "__notebook__.ipynb",
   "output_path": "__notebook__.ipynb",
   "parameters": {},
   "start_time": "2022-02-23T01:11:24.114184",
   "version": "2.3.3"
  }
 },
 "nbformat": 4,
 "nbformat_minor": 5
}
