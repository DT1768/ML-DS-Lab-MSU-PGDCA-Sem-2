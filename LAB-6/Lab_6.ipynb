{
  "nbformat": 4,
  "nbformat_minor": 0,
  "metadata": {
    "colab": {
      "name": "Lab-6.ipynb",
      "provenance": [],
      "authorship_tag": "ABX9TyOf4LXB8JmHsATUD9SHDVn6",
      "include_colab_link": true
    },
    "kernelspec": {
      "name": "python3",
      "display_name": "Python 3"
    },
    "language_info": {
      "name": "python"
    }
  },
  "cells": [
    {
      "cell_type": "markdown",
      "metadata": {
        "id": "view-in-github",
        "colab_type": "text"
      },
      "source": [
        "<a href=\"https://colab.research.google.com/github/DT1768/ML-DS-Lab-MSU-PGDCA-Sem-2/blob/main/LAB-6/Lab_6.ipynb\" target=\"_parent\"><img src=\"https://colab.research.google.com/assets/colab-badge.svg\" alt=\"Open In Colab\"/></a>"
      ]
    },
    {
      "cell_type": "markdown",
      "source": [
        "**Name: Dhruvkumar Dhirubhai Thakkar** \n",
        "\n",
        "**Assignment-6**\t\n",
        "\n",
        "**PRN: 8021028675**\n",
        "\n",
        "**Machine Learning and Data Science Lab**\n"
      ],
      "metadata": {
        "id": "nAZh2gJRuuk6"
      }
    },
    {
      "cell_type": "markdown",
      "source": [
        "# **Karl Pearson Coefficient of correlation**"
      ],
      "metadata": {
        "id": "xncm1DE7uv6v"
      }
    },
    {
      "cell_type": "markdown",
      "source": [
        "**Q1: Find the value of correlation co-efficient from the following data.**\n",
        "\n",
        "Age = [43,21,25,42,57,59]\n",
        "\n",
        "Glucose = [99,65,79,75,87,81]"
      ],
      "metadata": {
        "id": "8JUiC-PevAuN"
      }
    },
    {
      "cell_type": "code",
      "source": [
        "import numpy as np\n",
        "import math\n",
        "\n",
        "x = [43,21,25,42,57,59]\n",
        "y = [99,65,79,75,87,81]\n",
        "\n",
        "r =(sum((x - np.mean(x))*(y-np.mean(y))))/(math.sqrt(sum((x - np.mean(x))*(x - np.mean(x))))*math.sqrt(sum((y - np.mean(y))*(y - np.mean(y)))))\n",
        "print(\"Co-efficient of correlation between age and glucose level is: \",r)\n",
        "if(r>0):\n",
        "  print(\"Positive Correlation\")\n",
        "elif (r<0):\n",
        "  print(\"Negative Correlation\")\n",
        "else:\n",
        "  print(\"Zero Correlation\")"
      ],
      "metadata": {
        "colab": {
          "base_uri": "https://localhost:8080/"
        },
        "id": "sVH3mJWzvmU_",
        "outputId": "fce056dc-89b9-43f2-e62c-a2914453d271"
      },
      "execution_count": 26,
      "outputs": [
        {
          "output_type": "stream",
          "name": "stdout",
          "text": [
            "Co-efficient of correlation between age and glucose level is:  0.5298089018901744\n",
            "Positive Correlation\n"
          ]
        }
      ]
    },
    {
      "cell_type": "markdown",
      "source": [
        "**Q2: Find the value of correlation co-efficient from the following data.**\n",
        "\n",
        "years of education = [10,12,15,8]\n",
        "\n",
        "Age of entry in labour force = [16,17,18,15]"
      ],
      "metadata": {
        "id": "4tle4kJEzlY-"
      }
    },
    {
      "cell_type": "code",
      "source": [
        "import numpy as np\n",
        "import math\n",
        "\n",
        "x = [10,12,15,8]\n",
        "y = [16,17,18,15]\n",
        "\n",
        "r =(sum((x - np.mean(x))*(y-np.mean(y))))/(math.sqrt(sum((x - np.mean(x))*(x - np.mean(x))))*math.sqrt(sum((y - np.mean(y))*(y - np.mean(y)))))\n",
        "print(\"Co-efficient of correlation between years of education and age of entry in labour force is: \",r)\n",
        "if(r>0):\n",
        "  print(\"Positive Correlation\")\n",
        "elif (r<0):\n",
        "  print(\"Negative Correlation\")\n",
        "else:\n",
        "  print(\"Zero Correlation\")"
      ],
      "metadata": {
        "colab": {
          "base_uri": "https://localhost:8080/"
        },
        "id": "zVyJ20SjzlAz",
        "outputId": "25419143-05a3-4a70-c4b1-262e88fe69a4"
      },
      "execution_count": 27,
      "outputs": [
        {
          "output_type": "stream",
          "name": "stdout",
          "text": [
            "Co-efficient of correlation between years of education and age of entry in labour force is:  0.9943767126843688\n",
            "Positive Correlation\n"
          ]
        }
      ]
    },
    {
      "cell_type": "markdown",
      "source": [
        "**Q3: Find the value of correlation co-efficient from the following data.**\n",
        "\n",
        "Percentage of students having free meals = [14.4,7.2,27.5,33.8,38,15.9,4.9]\n",
        "\n",
        "percentage of students scoring above 8.5 CGPA= [54,64,44,32,37,68,62]"
      ],
      "metadata": {
        "id": "CjGZi5zm1Nb9"
      }
    },
    {
      "cell_type": "code",
      "source": [
        "import numpy as np\n",
        "import math\n",
        "\n",
        "x = [14.4,7.2,27.5,33.8,38,15.9,4.9]\n",
        "y = [54,64,44,32,37,68,62]\n",
        "\n",
        "r =(sum((x - np.mean(x))*(y-np.mean(y))))/(math.sqrt(sum((x - np.mean(x))*(x - np.mean(x))))*math.sqrt(sum((y - np.mean(y))*(y - np.mean(y)))))\n",
        "print(\"Co-efficient of correlation between Percentage of students having free meals and percentage of students scoring above 8.5 CGPA: \",r)\n",
        "if(r>0):\n",
        "  print(\"Positive Correlation\")\n",
        "elif (r<0):\n",
        "  print(\"Negative Correlation\")\n",
        "else:\n",
        "  print(\"Zero Correlation\")"
      ],
      "metadata": {
        "colab": {
          "base_uri": "https://localhost:8080/"
        },
        "outputId": "4399d628-06fc-45ac-c831-160eed9ceb2c",
        "id": "ZPv-bHRZ2O4D"
      },
      "execution_count": 28,
      "outputs": [
        {
          "output_type": "stream",
          "name": "stdout",
          "text": [
            "Co-efficient of correlation between Percentage of students having free meals and percentage of students scoring above 8.5 CGPA:  -0.899211634084388\n",
            "Negative Correlation\n"
          ]
        }
      ]
    },
    {
      "cell_type": "markdown",
      "source": [
        "**Q4: Find the value of correlation co-efficient from the following data.**\n",
        "\n",
        "Statistics = [1,3,3,4,5,6,7,8,9,10]\n",
        "\n",
        "Mathematics = [2,4,1,5,3,9,7,10,6,8]"
      ],
      "metadata": {
        "id": "rlsQRCNA2uY9"
      }
    },
    {
      "cell_type": "code",
      "source": [
        "import numpy as np\n",
        "import math\n",
        "\n",
        "x = [1,3,3,4,5,6,7,8,9,10]\n",
        "y = [2,4,1,5,3,9,7,10,6,8]\n",
        "\n",
        "r =(sum((x - np.mean(x))*(y-np.mean(y))))/(math.sqrt(sum((x - np.mean(x))*(x - np.mean(x))))*math.sqrt(sum((y - np.mean(y))*(y - np.mean(y)))))\n",
        "print(\"Co-efficient of correlation between Statistics and Mathematics is: \",r)\n",
        "if(r>0):\n",
        "  print(\"Positive Correlation\")\n",
        "elif (r<0):\n",
        "  print(\"Negative Correlation\")\n",
        "else:\n",
        "  print(\"Zero Correlation\")"
      ],
      "metadata": {
        "colab": {
          "base_uri": "https://localhost:8080/"
        },
        "outputId": "d64e0ce4-ebfa-450a-ae3b-fdca8593006e",
        "id": "0vHGex7T2uY-"
      },
      "execution_count": 29,
      "outputs": [
        {
          "output_type": "stream",
          "name": "stdout",
          "text": [
            "Co-efficient of correlation between Statistics and Mathematics is:  0.7683448443100817\n",
            "Positive Correlation\n"
          ]
        }
      ]
    },
    {
      "cell_type": "markdown",
      "source": [
        "**Q5: Find the value of correlation co-efficient from the following data.**\n",
        "\n",
        "x = [43,96,74,38,35,43,22,56,35,80]\n",
        "\n",
        "y = [30,94,84,13,30,18,30,41,48,45]"
      ],
      "metadata": {
        "id": "I9_Gu0z03gTS"
      }
    },
    {
      "cell_type": "code",
      "source": [
        "import numpy as np\n",
        "import math\n",
        "\n",
        "x = [43,96,74,38,35,43,22,56,35,80]\n",
        "y = [30,94,84,13,30,18,30,41,48,45]\n",
        "\n",
        "r =(sum((x - np.mean(x))*(y-np.mean(y))))/(math.sqrt(sum((x - np.mean(x))*(x - np.mean(x))))*math.sqrt(sum((y - np.mean(y))*(y - np.mean(y)))))\n",
        "print(\"Co-efficient of correlation between x and y is: \",r)\n",
        "if(r>0):\n",
        "  print(\"Positive Correlation\")\n",
        "elif (r<0):\n",
        "  print(\"Negative Correlation\")\n",
        "else:\n",
        "  print(\"Zero Correlation\")"
      ],
      "metadata": {
        "colab": {
          "base_uri": "https://localhost:8080/"
        },
        "outputId": "a8b7b00d-7424-47e2-95f6-4b946b65e3ae",
        "id": "Rl5Uvgvs3gTT"
      },
      "execution_count": 30,
      "outputs": [
        {
          "output_type": "stream",
          "name": "stdout",
          "text": [
            "Co-efficient of correlation between x and y is:  0.7911774518253507\n",
            "Positive Correlation\n"
          ]
        }
      ]
    },
    {
      "cell_type": "markdown",
      "source": [
        "# **Cross-Validation to evaluate machine learning model**"
      ],
      "metadata": {
        "id": "BMryBNJ24KZy"
      }
    },
    {
      "cell_type": "markdown",
      "source": [
        "**1) Hold-out Method**"
      ],
      "metadata": {
        "id": "XNp3Q8E-44Rw"
      }
    },
    {
      "cell_type": "code",
      "source": [
        "from sklearn.model_selection import train_test_split\n",
        "X = [10,20,30,40,50,60,70,80,90,100]\n",
        "train, test= train_test_split(X,test_size=0.4, random_state=1)\n",
        "print(\"Train:\",train,\"Test:\" ,test)"
      ],
      "metadata": {
        "colab": {
          "base_uri": "https://localhost:8080/"
        },
        "id": "k7XA3aZR4-MB",
        "outputId": "1e3743d3-ee9d-4d37-f835-ef5581206bf1"
      },
      "execution_count": 31,
      "outputs": [
        {
          "output_type": "stream",
          "name": "stdout",
          "text": [
            "Train: [10, 40, 20, 80, 90, 60] Test: [30, 100, 70, 50]\n"
          ]
        }
      ]
    },
    {
      "cell_type": "markdown",
      "source": [
        "**2) Leave One Out Cross-Validation**"
      ],
      "metadata": {
        "id": "0ruavSyw5Vzp"
      }
    },
    {
      "cell_type": "code",
      "source": [
        "from sklearn.model_selection import LeaveOneOut\n",
        "X = [10,20,30,40,50,60,70,80,90,100]\n",
        "\n",
        "l = LeaveOneOut()\n",
        "\n",
        "for train, test in l.split(X):\n",
        "\n",
        "    print(\"%s %s\"% (train,test))\n"
      ],
      "metadata": {
        "colab": {
          "base_uri": "https://localhost:8080/"
        },
        "outputId": "bcf98e80-b96f-4900-d962-f9564014a684",
        "id": "rePXaVdq5Vzq"
      },
      "execution_count": 32,
      "outputs": [
        {
          "output_type": "stream",
          "name": "stdout",
          "text": [
            "[1 2 3 4 5 6 7 8 9] [0]\n",
            "[0 2 3 4 5 6 7 8 9] [1]\n",
            "[0 1 3 4 5 6 7 8 9] [2]\n",
            "[0 1 2 4 5 6 7 8 9] [3]\n",
            "[0 1 2 3 5 6 7 8 9] [4]\n",
            "[0 1 2 3 4 6 7 8 9] [5]\n",
            "[0 1 2 3 4 5 7 8 9] [6]\n",
            "[0 1 2 3 4 5 6 8 9] [7]\n",
            "[0 1 2 3 4 5 6 7 9] [8]\n",
            "[0 1 2 3 4 5 6 7 8] [9]\n"
          ]
        }
      ]
    },
    {
      "cell_type": "markdown",
      "source": [
        "**3) K-Fold Cross-Validation**"
      ],
      "metadata": {
        "id": "8ZYub7vc5V6-"
      }
    },
    {
      "cell_type": "code",
      "source": [
        "from sklearn.model_selection import KFold\n",
        "X = [\"a\",'b','c','d','e','f']\n",
        "\n",
        "kf = KFold(n_splits=4, shuffle=False, random_state=None)\n",
        "\n",
        "for train, test in kf.split(X):\n",
        "    print(\"Train data\",train,\"Test data\",test)"
      ],
      "metadata": {
        "colab": {
          "base_uri": "https://localhost:8080/"
        },
        "outputId": "0cb551c7-c01c-48f3-f827-652f198b857f",
        "id": "hvYUqR_e5V6-"
      },
      "execution_count": 33,
      "outputs": [
        {
          "output_type": "stream",
          "name": "stdout",
          "text": [
            "Train data [2 3 4 5] Test data [0 1]\n",
            "Train data [0 1 4 5] Test data [2 3]\n",
            "Train data [0 1 2 3 5] Test data [4]\n",
            "Train data [0 1 2 3 4] Test data [5]\n"
          ]
        }
      ]
    },
    {
      "cell_type": "markdown",
      "source": [
        "**4) Stratified K-Fold Cross-Validation**"
      ],
      "metadata": {
        "id": "93LpsCCp5WFO"
      }
    },
    {
      "cell_type": "code",
      "source": [
        "from sklearn.model_selection import StratifiedKFold\n",
        "X = np.array([[1,2],[3,4],[5,6],[7,8],[9,10],[11,12]])\n",
        "y= np.array([0,0,1,0,1,1])\n",
        "\n",
        "skf = StratifiedKFold(n_splits=3,random_state=None,shuffle=False)\n",
        "\n",
        "for train_index,test_index in skf.split(X,y):\n",
        "    print(\"Train:\",train_index,'Test:',test_index)\n",
        "    X_train,X_test = X[train_index], X[test_index]\n",
        "    y_train,y_test = y[train_index], y[test_index]\n"
      ],
      "metadata": {
        "colab": {
          "base_uri": "https://localhost:8080/"
        },
        "outputId": "5cba5346-3478-4dd6-a1df-1c7968a4b852",
        "id": "be4jnWsy5WFP"
      },
      "execution_count": 34,
      "outputs": [
        {
          "output_type": "stream",
          "name": "stdout",
          "text": [
            "Train: [1 3 4 5] Test: [0 2]\n",
            "Train: [0 2 3 5] Test: [1 4]\n",
            "Train: [0 1 2 4] Test: [3 5]\n"
          ]
        }
      ]
    }
  ]
}